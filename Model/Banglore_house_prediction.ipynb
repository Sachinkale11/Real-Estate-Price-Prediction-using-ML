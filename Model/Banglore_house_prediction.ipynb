{
 "cells": [
  {
   "cell_type": "markdown",
   "metadata": {},
   "source": [
    "<h1 style='color:purple' align='center'>Data Science Regression Project: Predicting Home Prices in Banglore</h1>"
   ]
  },
 "cells": [
  {
   "cell_type": "markdown",
   "id": "5ba2fb40",
   "metadata": {},
   "source": [
    "Dataset is downloaded from here: https://www.kaggle.com/amitabhajoy/bengaluru-house-price-data\n",
    "\n"
   ]
  },
  {
   "cell_type": "code",
   "execution_count": 88,
   "id": "4bb740ba",
   "metadata": {},
   "outputs": [],
   "source": [
    "import pandas as pd\n",
    "import numpy as np \n",
    "from matplotlib import pyplot as plt\n",
    "%matplotlib inline \n",
    "import matplotlib\n",
    "matplotlib.rcParams[\"figure.figsize\"] = (20,10)\n",
    "import warnings\n",
    "warnings.filterwarnings('ignore')"
   ]
  },
  {
   "cell_type": "markdown",
   "id": "8a41d131",
   "metadata": {},
   "source": [
    "# Data Load: Load banglore home prices into a dataframe\n"
   ]
  },
  {
   "cell_type": "code",
   "execution_count": 89,
   "id": "7fc195b4",
   "metadata": {},
   "outputs": [
    {
     "data": {
      "text/html": [
       "<div>\n",
       "<style scoped>\n",
       "    .dataframe tbody tr th:only-of-type {\n",
       "        vertical-align: middle;\n",
       "    }\n",
       "\n",
       "    .dataframe tbody tr th {\n",
       "        vertical-align: top;\n",
       "    }\n",
       "\n",
       "    .dataframe thead th {\n",
       "        text-align: right;\n",
       "    }\n",
       "</style>\n",
       "<table border=\"1\" class=\"dataframe\">\n",
       "  <thead>\n",
       "    <tr style=\"text-align: right;\">\n",
       "      <th></th>\n",
       "      <th>area_type</th>\n",
       "      <th>availability</th>\n",
       "      <th>location</th>\n",
       "      <th>size</th>\n",
       "      <th>society</th>\n",
       "      <th>total_sqft</th>\n",
       "      <th>bath</th>\n",
       "      <th>balcony</th>\n",
       "      <th>price</th>\n",
       "    </tr>\n",
       "  </thead>\n",
       "  <tbody>\n",
       "    <tr>\n",
       "      <th>0</th>\n",
       "      <td>Super built-up  Area</td>\n",
       "      <td>19-Dec</td>\n",
       "      <td>Electronic City Phase II</td>\n",
       "      <td>2 BHK</td>\n",
       "      <td>Coomee</td>\n",
       "      <td>1056</td>\n",
       "      <td>2.0</td>\n",
       "      <td>1.0</td>\n",
       "      <td>39.07</td>\n",
       "    </tr>\n",
       "    <tr>\n",
       "      <th>1</th>\n",
       "      <td>Plot  Area</td>\n",
       "      <td>Ready To Move</td>\n",
       "      <td>Chikka Tirupathi</td>\n",
       "      <td>4 Bedroom</td>\n",
       "      <td>Theanmp</td>\n",
       "      <td>2600</td>\n",
       "      <td>5.0</td>\n",
       "      <td>3.0</td>\n",
       "      <td>120.00</td>\n",
       "    </tr>\n",
       "    <tr>\n",
       "      <th>2</th>\n",
       "      <td>Built-up  Area</td>\n",
       "      <td>Ready To Move</td>\n",
       "      <td>Uttarahalli</td>\n",
       "      <td>3 BHK</td>\n",
       "      <td>NaN</td>\n",
       "      <td>1440</td>\n",
       "      <td>2.0</td>\n",
       "      <td>3.0</td>\n",
       "      <td>62.00</td>\n",
       "    </tr>\n",
       "    <tr>\n",
       "      <th>3</th>\n",
       "      <td>Super built-up  Area</td>\n",
       "      <td>Ready To Move</td>\n",
       "      <td>Lingadheeranahalli</td>\n",
       "      <td>3 BHK</td>\n",
       "      <td>Soiewre</td>\n",
       "      <td>1521</td>\n",
       "      <td>3.0</td>\n",
       "      <td>1.0</td>\n",
       "      <td>95.00</td>\n",
       "    </tr>\n",
       "    <tr>\n",
       "      <th>4</th>\n",
       "      <td>Super built-up  Area</td>\n",
       "      <td>Ready To Move</td>\n",
       "      <td>Kothanur</td>\n",
       "      <td>2 BHK</td>\n",
       "      <td>NaN</td>\n",
       "      <td>1200</td>\n",
       "      <td>2.0</td>\n",
       "      <td>1.0</td>\n",
       "      <td>51.00</td>\n",
       "    </tr>\n",
       "  </tbody>\n",
       "</table>\n",
       "</div>"
      ],
      "text/plain": [
       "              area_type   availability                  location       size  \\\n",
       "0  Super built-up  Area         19-Dec  Electronic City Phase II      2 BHK   \n",
       "1            Plot  Area  Ready To Move          Chikka Tirupathi  4 Bedroom   \n",
       "2        Built-up  Area  Ready To Move               Uttarahalli      3 BHK   \n",
       "3  Super built-up  Area  Ready To Move        Lingadheeranahalli      3 BHK   \n",
       "4  Super built-up  Area  Ready To Move                  Kothanur      2 BHK   \n",
       "\n",
       "   society total_sqft  bath  balcony   price  \n",
       "0  Coomee        1056   2.0      1.0   39.07  \n",
       "1  Theanmp       2600   5.0      3.0  120.00  \n",
       "2      NaN       1440   2.0      3.0   62.00  \n",
       "3  Soiewre       1521   3.0      1.0   95.00  \n",
       "4      NaN       1200   2.0      1.0   51.00  "
      ]
     },
     "execution_count": 89,
     "metadata": {},
     "output_type": "execute_result"
    }
   ],
   "source": [
    "df1 = pd.read_csv(\"Bengaluru_House_Data.csv\")\n",
    "df1.head()"
   ]
  },
  {
   "cell_type": "code",
   "execution_count": 90,
   "id": "10983f1e",
   "metadata": {},
   "outputs": [
    {
     "data": {
      "text/plain": [
       "(13320, 9)"
      ]
     },
     "execution_count": 90,
     "metadata": {},
     "output_type": "execute_result"
    }
   ],
   "source": [
    "df1.shape"
   ]
  },
  {
   "cell_type": "code",
   "execution_count": 91,
   "id": "17ad4cb1",
   "metadata": {},
   "outputs": [
    {
     "data": {
      "text/plain": [
       "area_type\n",
       "Built-up  Area          2418\n",
       "Carpet  Area              87\n",
       "Plot  Area              2025\n",
       "Super built-up  Area    8790\n",
       "Name: area_type, dtype: int64"
      ]
     },
     "execution_count": 91,
     "metadata": {},
     "output_type": "execute_result"
    }
   ],
   "source": [
    "df1.groupby('area_type')['area_type'].agg('count')"
   ]
  },
  {
   "cell_type": "markdown",
   "id": "8bae5773",
   "metadata": {},
   "source": [
    "\n",
    "\n",
    "### Drop features that are not required to build our model"
   ]
  },
  {
   "cell_type": "code",
   "execution_count": 92,
   "id": "56aaa1a9",
   "metadata": {},
   "outputs": [
    {
     "data": {
      "text/html": [
       "<div>\n",
       "<style scoped>\n",
       "    .dataframe tbody tr th:only-of-type {\n",
       "        vertical-align: middle;\n",
       "    }\n",
       "\n",
       "    .dataframe tbody tr th {\n",
       "        vertical-align: top;\n",
       "    }\n",
       "\n",
       "    .dataframe thead th {\n",
       "        text-align: right;\n",
       "    }\n",
       "</style>\n",
       "<table border=\"1\" class=\"dataframe\">\n",
       "  <thead>\n",
       "    <tr style=\"text-align: right;\">\n",
       "      <th></th>\n",
       "      <th>location</th>\n",
       "      <th>size</th>\n",
       "      <th>total_sqft</th>\n",
       "      <th>bath</th>\n",
       "      <th>price</th>\n",
       "    </tr>\n",
       "  </thead>\n",
       "  <tbody>\n",
       "    <tr>\n",
       "      <th>0</th>\n",
       "      <td>Electronic City Phase II</td>\n",
       "      <td>2 BHK</td>\n",
       "      <td>1056</td>\n",
       "      <td>2.0</td>\n",
       "      <td>39.07</td>\n",
       "    </tr>\n",
       "    <tr>\n",
       "      <th>1</th>\n",
       "      <td>Chikka Tirupathi</td>\n",
       "      <td>4 Bedroom</td>\n",
       "      <td>2600</td>\n",
       "      <td>5.0</td>\n",
       "      <td>120.00</td>\n",
       "    </tr>\n",
       "    <tr>\n",
       "      <th>2</th>\n",
       "      <td>Uttarahalli</td>\n",
       "      <td>3 BHK</td>\n",
       "      <td>1440</td>\n",
       "      <td>2.0</td>\n",
       "      <td>62.00</td>\n",
       "    </tr>\n",
       "    <tr>\n",
       "      <th>3</th>\n",
       "      <td>Lingadheeranahalli</td>\n",
       "      <td>3 BHK</td>\n",
       "      <td>1521</td>\n",
       "      <td>3.0</td>\n",
       "      <td>95.00</td>\n",
       "    </tr>\n",
       "    <tr>\n",
       "      <th>4</th>\n",
       "      <td>Kothanur</td>\n",
       "      <td>2 BHK</td>\n",
       "      <td>1200</td>\n",
       "      <td>2.0</td>\n",
       "      <td>51.00</td>\n",
       "    </tr>\n",
       "  </tbody>\n",
       "</table>\n",
       "</div>"
      ],
      "text/plain": [
       "                   location       size total_sqft  bath   price\n",
       "0  Electronic City Phase II      2 BHK       1056   2.0   39.07\n",
       "1          Chikka Tirupathi  4 Bedroom       2600   5.0  120.00\n",
       "2               Uttarahalli      3 BHK       1440   2.0   62.00\n",
       "3        Lingadheeranahalli      3 BHK       1521   3.0   95.00\n",
       "4                  Kothanur      2 BHK       1200   2.0   51.00"
      ]
     },
     "execution_count": 92,
     "metadata": {},
     "output_type": "execute_result"
    }
   ],
   "source": [
    "df2 = df1.drop(['area_type','society','balcony','availability'],axis  = 'columns')\n",
    "df2.head()"
   ]
  },
  {
   "cell_type": "markdown",
   "id": "fb38002d",
   "metadata": {},
   "source": [
    "## Data Cleaning: Handle NA values"
   ]
  },
  {
   "cell_type": "code",
   "execution_count": 93,
   "id": "c029ca77",
   "metadata": {},
   "outputs": [
    {
     "data": {
      "text/plain": [
       "location       1\n",
       "size          16\n",
       "total_sqft     0\n",
       "bath          73\n",
       "price          0\n",
       "dtype: int64"
      ]
     },
     "execution_count": 93,
     "metadata": {},
     "output_type": "execute_result"
    }
   ],
   "source": [
    "df2.isnull().sum()"
   ]
  },
  {
   "cell_type": "code",
   "execution_count": 94,
   "id": "95d1d6db",
   "metadata": {},
   "outputs": [
    {
     "data": {
      "text/plain": [
       "location      0\n",
       "size          0\n",
       "total_sqft    0\n",
       "bath          0\n",
       "price         0\n",
       "dtype: int64"
      ]
     },
     "execution_count": 94,
     "metadata": {},
     "output_type": "execute_result"
    }
   ],
   "source": [
    "df3 = df2.dropna()\n",
    "df3.isnull().sum()"
   ]
  },
  {
   "cell_type": "code",
   "execution_count": 95,
   "id": "94d9a729",
   "metadata": {},
   "outputs": [
    {
     "data": {
      "text/plain": [
       "(13246, 5)"
      ]
     },
     "execution_count": 95,
     "metadata": {},
     "output_type": "execute_result"
    }
   ],
   "source": [
    "df3.shape"
   ]
  },
  {
   "cell_type": "markdown",
   "id": "47b6e372",
   "metadata": {},
   "source": [
    "# Feature Engineering\n",
    "\n",
    "\n",
    "### Add new feature(integer) for bhk (Bedrooms Hall Kitchen)"
   ]
  },
  {
   "cell_type": "code",
   "execution_count": 96,
   "id": "94f557dc",
   "metadata": {},
   "outputs": [
    {
     "data": {
      "text/plain": [
       "array(['2 BHK', '4 Bedroom', '3 BHK', '4 BHK', '6 Bedroom', '3 Bedroom',\n",
       "       '1 BHK', '1 RK', '1 Bedroom', '8 Bedroom', '2 Bedroom',\n",
       "       '7 Bedroom', '5 BHK', '7 BHK', '6 BHK', '5 Bedroom', '11 BHK',\n",
       "       '9 BHK', '9 Bedroom', '27 BHK', '10 Bedroom', '11 Bedroom',\n",
       "       '10 BHK', '19 BHK', '16 BHK', '43 Bedroom', '14 BHK', '8 BHK',\n",
       "       '12 Bedroom', '13 BHK', '18 Bedroom'], dtype=object)"
      ]
     },
     "execution_count": 96,
     "metadata": {},
     "output_type": "execute_result"
    }
   ],
   "source": [
    "df3['size'].unique()"
   ]
  },
  {
   "cell_type": "code",
   "execution_count": 97,
   "id": "ce7bfdc2",
   "metadata": {},
   "outputs": [],
   "source": [
    "df3['BHK'] = df3['size'].apply(lambda x: int(x.split(' ')[0]))"
   ]
  },
  {
   "cell_type": "code",
   "execution_count": 99,
   "id": "ef93a1de",
   "metadata": {},
   "outputs": [
    {
     "data": {
      "text/html": [
       "<div>\n",
       "<style scoped>\n",
       "    .dataframe tbody tr th:only-of-type {\n",
       "        vertical-align: middle;\n",
       "    }\n",
       "\n",
       "    .dataframe tbody tr th {\n",
       "        vertical-align: top;\n",
       "    }\n",
       "\n",
       "    .dataframe thead th {\n",
       "        text-align: right;\n",
       "    }\n",
       "</style>\n",
       "<table border=\"1\" class=\"dataframe\">\n",
       "  <thead>\n",
       "    <tr style=\"text-align: right;\">\n",
       "      <th></th>\n",
       "      <th>location</th>\n",
       "      <th>size</th>\n",
       "      <th>total_sqft</th>\n",
       "      <th>bath</th>\n",
       "      <th>price</th>\n",
       "      <th>BHK</th>\n",
       "    </tr>\n",
       "  </thead>\n",
       "  <tbody>\n",
       "    <tr>\n",
       "      <th>0</th>\n",
       "      <td>Electronic City Phase II</td>\n",
       "      <td>2 BHK</td>\n",
       "      <td>1056</td>\n",
       "      <td>2.0</td>\n",
       "      <td>39.07</td>\n",
       "      <td>2</td>\n",
       "    </tr>\n",
       "    <tr>\n",
       "      <th>1</th>\n",
       "      <td>Chikka Tirupathi</td>\n",
       "      <td>4 Bedroom</td>\n",
       "      <td>2600</td>\n",
       "      <td>5.0</td>\n",
       "      <td>120.00</td>\n",
       "      <td>4</td>\n",
       "    </tr>\n",
       "    <tr>\n",
       "      <th>2</th>\n",
       "      <td>Uttarahalli</td>\n",
       "      <td>3 BHK</td>\n",
       "      <td>1440</td>\n",
       "      <td>2.0</td>\n",
       "      <td>62.00</td>\n",
       "      <td>3</td>\n",
       "    </tr>\n",
       "    <tr>\n",
       "      <th>3</th>\n",
       "      <td>Lingadheeranahalli</td>\n",
       "      <td>3 BHK</td>\n",
       "      <td>1521</td>\n",
       "      <td>3.0</td>\n",
       "      <td>95.00</td>\n",
       "      <td>3</td>\n",
       "    </tr>\n",
       "    <tr>\n",
       "      <th>4</th>\n",
       "      <td>Kothanur</td>\n",
       "      <td>2 BHK</td>\n",
       "      <td>1200</td>\n",
       "      <td>2.0</td>\n",
       "      <td>51.00</td>\n",
       "      <td>2</td>\n",
       "    </tr>\n",
       "  </tbody>\n",
       "</table>\n",
       "</div>"
      ],
      "text/plain": [
       "                   location       size total_sqft  bath   price  BHK\n",
       "0  Electronic City Phase II      2 BHK       1056   2.0   39.07    2\n",
       "1          Chikka Tirupathi  4 Bedroom       2600   5.0  120.00    4\n",
       "2               Uttarahalli      3 BHK       1440   2.0   62.00    3\n",
       "3        Lingadheeranahalli      3 BHK       1521   3.0   95.00    3\n",
       "4                  Kothanur      2 BHK       1200   2.0   51.00    2"
      ]
     },
     "execution_count": 99,
     "metadata": {},
     "output_type": "execute_result"
    }
   ],
   "source": [
    "df3.head()"
   ]
  },
  {
   "cell_type": "code",
   "execution_count": 100,
   "id": "0e1ffd06",
   "metadata": {},
   "outputs": [
    {
     "data": {
      "text/plain": [
       "array([ 2,  4,  3,  6,  1,  8,  7,  5, 11,  9, 27, 10, 19, 16, 43, 14, 12,\n",
       "       13, 18], dtype=int64)"
      ]
     },
     "execution_count": 100,
     "metadata": {},
     "output_type": "execute_result"
    }
   ],
   "source": [
    "df3['BHK'].unique()"
   ]
  },
  {
   "cell_type": "code",
   "execution_count": 101,
   "id": "ef55b8ba",
   "metadata": {},
   "outputs": [
    {
     "data": {
      "text/html": [
       "<div>\n",
       "<style scoped>\n",
       "    .dataframe tbody tr th:only-of-type {\n",
       "        vertical-align: middle;\n",
       "    }\n",
       "\n",
       "    .dataframe tbody tr th {\n",
       "        vertical-align: top;\n",
       "    }\n",
       "\n",
       "    .dataframe thead th {\n",
       "        text-align: right;\n",
       "    }\n",
       "</style>\n",
       "<table border=\"1\" class=\"dataframe\">\n",
       "  <thead>\n",
       "    <tr style=\"text-align: right;\">\n",
       "      <th></th>\n",
       "      <th>location</th>\n",
       "      <th>size</th>\n",
       "      <th>total_sqft</th>\n",
       "      <th>bath</th>\n",
       "      <th>price</th>\n",
       "      <th>BHK</th>\n",
       "    </tr>\n",
       "  </thead>\n",
       "  <tbody>\n",
       "    <tr>\n",
       "      <th>1718</th>\n",
       "      <td>2Electronic City Phase II</td>\n",
       "      <td>27 BHK</td>\n",
       "      <td>8000</td>\n",
       "      <td>27.0</td>\n",
       "      <td>230.0</td>\n",
       "      <td>27</td>\n",
       "    </tr>\n",
       "    <tr>\n",
       "      <th>4684</th>\n",
       "      <td>Munnekollal</td>\n",
       "      <td>43 Bedroom</td>\n",
       "      <td>2400</td>\n",
       "      <td>40.0</td>\n",
       "      <td>660.0</td>\n",
       "      <td>43</td>\n",
       "    </tr>\n",
       "  </tbody>\n",
       "</table>\n",
       "</div>"
      ],
      "text/plain": [
       "                       location        size total_sqft  bath  price  BHK\n",
       "1718  2Electronic City Phase II      27 BHK       8000  27.0  230.0   27\n",
       "4684                Munnekollal  43 Bedroom       2400  40.0  660.0   43"
      ]
     },
     "execution_count": 101,
     "metadata": {},
     "output_type": "execute_result"
    }
   ],
   "source": [
    "df3[df3.BHK>20]"
   ]
  },
  {
   "cell_type": "code",
   "execution_count": 102,
   "id": "5a5b68ed",
   "metadata": {},
   "outputs": [
    {
     "data": {
      "text/plain": [
       "array(['1056', '2600', '1440', ..., '1133 - 1384', '774', '4689'],\n",
       "      dtype=object)"
      ]
     },
     "execution_count": 102,
     "metadata": {},
     "output_type": "execute_result"
    }
   ],
   "source": [
    "df3.total_sqft.unique()"
   ]
  },
  {
   "cell_type": "markdown",
   "id": "61625adf",
   "metadata": {},
   "source": [
    "### Explore total_sqft feature"
   ]
  },
  {
   "cell_type": "code",
   "execution_count": 103,
   "id": "5787ab6d",
   "metadata": {},
   "outputs": [],
   "source": [
    "def is_float(x):\n",
    "    try:\n",
    "        float(x)\n",
    "    except:\n",
    "        return False\n",
    "    return True"
   ]
  },
  {
   "cell_type": "code",
   "execution_count": 104,
   "id": "4061b77b",
   "metadata": {},
   "outputs": [
    {
     "data": {
      "text/html": [
       "<div>\n",
       "<style scoped>\n",
       "    .dataframe tbody tr th:only-of-type {\n",
       "        vertical-align: middle;\n",
       "    }\n",
       "\n",
       "    .dataframe tbody tr th {\n",
       "        vertical-align: top;\n",
       "    }\n",
       "\n",
       "    .dataframe thead th {\n",
       "        text-align: right;\n",
       "    }\n",
       "</style>\n",
       "<table border=\"1\" class=\"dataframe\">\n",
       "  <thead>\n",
       "    <tr style=\"text-align: right;\">\n",
       "      <th></th>\n",
       "      <th>location</th>\n",
       "      <th>size</th>\n",
       "      <th>total_sqft</th>\n",
       "      <th>bath</th>\n",
       "      <th>price</th>\n",
       "      <th>BHK</th>\n",
       "    </tr>\n",
       "  </thead>\n",
       "  <tbody>\n",
       "    <tr>\n",
       "      <th>30</th>\n",
       "      <td>Yelahanka</td>\n",
       "      <td>4 BHK</td>\n",
       "      <td>2100 - 2850</td>\n",
       "      <td>4.0</td>\n",
       "      <td>186.000</td>\n",
       "      <td>4</td>\n",
       "    </tr>\n",
       "    <tr>\n",
       "      <th>122</th>\n",
       "      <td>Hebbal</td>\n",
       "      <td>4 BHK</td>\n",
       "      <td>3067 - 8156</td>\n",
       "      <td>4.0</td>\n",
       "      <td>477.000</td>\n",
       "      <td>4</td>\n",
       "    </tr>\n",
       "    <tr>\n",
       "      <th>137</th>\n",
       "      <td>8th Phase JP Nagar</td>\n",
       "      <td>2 BHK</td>\n",
       "      <td>1042 - 1105</td>\n",
       "      <td>2.0</td>\n",
       "      <td>54.005</td>\n",
       "      <td>2</td>\n",
       "    </tr>\n",
       "    <tr>\n",
       "      <th>165</th>\n",
       "      <td>Sarjapur</td>\n",
       "      <td>2 BHK</td>\n",
       "      <td>1145 - 1340</td>\n",
       "      <td>2.0</td>\n",
       "      <td>43.490</td>\n",
       "      <td>2</td>\n",
       "    </tr>\n",
       "    <tr>\n",
       "      <th>188</th>\n",
       "      <td>KR Puram</td>\n",
       "      <td>2 BHK</td>\n",
       "      <td>1015 - 1540</td>\n",
       "      <td>2.0</td>\n",
       "      <td>56.800</td>\n",
       "      <td>2</td>\n",
       "    </tr>\n",
       "    <tr>\n",
       "      <th>410</th>\n",
       "      <td>Kengeri</td>\n",
       "      <td>1 BHK</td>\n",
       "      <td>34.46Sq. Meter</td>\n",
       "      <td>1.0</td>\n",
       "      <td>18.500</td>\n",
       "      <td>1</td>\n",
       "    </tr>\n",
       "    <tr>\n",
       "      <th>549</th>\n",
       "      <td>Hennur Road</td>\n",
       "      <td>2 BHK</td>\n",
       "      <td>1195 - 1440</td>\n",
       "      <td>2.0</td>\n",
       "      <td>63.770</td>\n",
       "      <td>2</td>\n",
       "    </tr>\n",
       "    <tr>\n",
       "      <th>648</th>\n",
       "      <td>Arekere</td>\n",
       "      <td>9 Bedroom</td>\n",
       "      <td>4125Perch</td>\n",
       "      <td>9.0</td>\n",
       "      <td>265.000</td>\n",
       "      <td>9</td>\n",
       "    </tr>\n",
       "    <tr>\n",
       "      <th>661</th>\n",
       "      <td>Yelahanka</td>\n",
       "      <td>2 BHK</td>\n",
       "      <td>1120 - 1145</td>\n",
       "      <td>2.0</td>\n",
       "      <td>48.130</td>\n",
       "      <td>2</td>\n",
       "    </tr>\n",
       "    <tr>\n",
       "      <th>672</th>\n",
       "      <td>Bettahalsoor</td>\n",
       "      <td>4 Bedroom</td>\n",
       "      <td>3090 - 5002</td>\n",
       "      <td>4.0</td>\n",
       "      <td>445.000</td>\n",
       "      <td>4</td>\n",
       "    </tr>\n",
       "  </tbody>\n",
       "</table>\n",
       "</div>"
      ],
      "text/plain": [
       "               location       size      total_sqft  bath    price  BHK\n",
       "30            Yelahanka      4 BHK     2100 - 2850   4.0  186.000    4\n",
       "122              Hebbal      4 BHK     3067 - 8156   4.0  477.000    4\n",
       "137  8th Phase JP Nagar      2 BHK     1042 - 1105   2.0   54.005    2\n",
       "165            Sarjapur      2 BHK     1145 - 1340   2.0   43.490    2\n",
       "188            KR Puram      2 BHK     1015 - 1540   2.0   56.800    2\n",
       "410             Kengeri      1 BHK  34.46Sq. Meter   1.0   18.500    1\n",
       "549         Hennur Road      2 BHK     1195 - 1440   2.0   63.770    2\n",
       "648             Arekere  9 Bedroom       4125Perch   9.0  265.000    9\n",
       "661           Yelahanka      2 BHK     1120 - 1145   2.0   48.130    2\n",
       "672        Bettahalsoor  4 Bedroom     3090 - 5002   4.0  445.000    4"
      ]
     },
     "execution_count": 104,
     "metadata": {},
     "output_type": "execute_result"
    }
   ],
   "source": [
    "df3[~df3['total_sqft'].apply(is_float)].head(10)"
   ]
  },
  {
   "cell_type": "markdown",
   "id": "1738918f",
   "metadata": {},
   "source": [
    "#### Above shows that total_sqft can be a range (e.g. 2100-2850). For such case we can just take average of min and max value in the range. There are other cases such as 34.46Sq. Meter which one can convert to square ft using unit conversion. I am going to just drop such corner cases to keep things simple"
   ]
  },
  {
   "cell_type": "code",
   "execution_count": 105,
   "id": "94e38981",
   "metadata": {},
   "outputs": [],
   "source": [
    "def convert_sqrt_to_num(x):\n",
    "    tokens = x.split('-')\n",
    "    if len(tokens) == 2:\n",
    "        return (float(tokens[0])+float(tokens[1]))/2\n",
    "    try:\n",
    "        return float(x)\n",
    "    except:\n",
    "        return None"
   ]
  },
  {
   "cell_type": "code",
   "execution_count": 106,
   "id": "91cb8a90",
   "metadata": {},
   "outputs": [
    {
     "data": {
      "text/plain": [
       "2166.0"
      ]
     },
     "execution_count": 106,
     "metadata": {},
     "output_type": "execute_result"
    }
   ],
   "source": [
    "convert_sqrt_to_num('2166')"
   ]
  },
  {
   "cell_type": "code",
   "execution_count": 107,
   "id": "b9b90e58",
   "metadata": {},
   "outputs": [
    {
     "data": {
      "text/plain": [
       "5611.5"
      ]
     },
     "execution_count": 107,
     "metadata": {},
     "output_type": "execute_result"
    }
   ],
   "source": [
    "convert_sqrt_to_num('3067 - 8156')"
   ]
  },
  {
   "cell_type": "code",
   "execution_count": 108,
   "id": "a23059b0",
   "metadata": {},
   "outputs": [],
   "source": [
    "convert_sqrt_to_num('34.46Sq. Meter')"
   ]
  },
  {
   "cell_type": "code",
   "execution_count": 109,
   "id": "837a2117",
   "metadata": {},
   "outputs": [
    {
     "data": {
      "text/html": [
       "<div>\n",
       "<style scoped>\n",
       "    .dataframe tbody tr th:only-of-type {\n",
       "        vertical-align: middle;\n",
       "    }\n",
       "\n",
       "    .dataframe tbody tr th {\n",
       "        vertical-align: top;\n",
       "    }\n",
       "\n",
       "    .dataframe thead th {\n",
       "        text-align: right;\n",
       "    }\n",
       "</style>\n",
       "<table border=\"1\" class=\"dataframe\">\n",
       "  <thead>\n",
       "    <tr style=\"text-align: right;\">\n",
       "      <th></th>\n",
       "      <th>location</th>\n",
       "      <th>size</th>\n",
       "      <th>total_sqft</th>\n",
       "      <th>bath</th>\n",
       "      <th>price</th>\n",
       "      <th>BHK</th>\n",
       "    </tr>\n",
       "  </thead>\n",
       "  <tbody>\n",
       "    <tr>\n",
       "      <th>0</th>\n",
       "      <td>Electronic City Phase II</td>\n",
       "      <td>2 BHK</td>\n",
       "      <td>1056.0</td>\n",
       "      <td>2.0</td>\n",
       "      <td>39.07</td>\n",
       "      <td>2</td>\n",
       "    </tr>\n",
       "    <tr>\n",
       "      <th>1</th>\n",
       "      <td>Chikka Tirupathi</td>\n",
       "      <td>4 Bedroom</td>\n",
       "      <td>2600.0</td>\n",
       "      <td>5.0</td>\n",
       "      <td>120.00</td>\n",
       "      <td>4</td>\n",
       "    </tr>\n",
       "    <tr>\n",
       "      <th>2</th>\n",
       "      <td>Uttarahalli</td>\n",
       "      <td>3 BHK</td>\n",
       "      <td>1440.0</td>\n",
       "      <td>2.0</td>\n",
       "      <td>62.00</td>\n",
       "      <td>3</td>\n",
       "    </tr>\n",
       "    <tr>\n",
       "      <th>3</th>\n",
       "      <td>Lingadheeranahalli</td>\n",
       "      <td>3 BHK</td>\n",
       "      <td>1521.0</td>\n",
       "      <td>3.0</td>\n",
       "      <td>95.00</td>\n",
       "      <td>3</td>\n",
       "    </tr>\n",
       "    <tr>\n",
       "      <th>4</th>\n",
       "      <td>Kothanur</td>\n",
       "      <td>2 BHK</td>\n",
       "      <td>1200.0</td>\n",
       "      <td>2.0</td>\n",
       "      <td>51.00</td>\n",
       "      <td>2</td>\n",
       "    </tr>\n",
       "  </tbody>\n",
       "</table>\n",
       "</div>"
      ],
      "text/plain": [
       "                   location       size  total_sqft  bath   price  BHK\n",
       "0  Electronic City Phase II      2 BHK      1056.0   2.0   39.07    2\n",
       "1          Chikka Tirupathi  4 Bedroom      2600.0   5.0  120.00    4\n",
       "2               Uttarahalli      3 BHK      1440.0   2.0   62.00    3\n",
       "3        Lingadheeranahalli      3 BHK      1521.0   3.0   95.00    3\n",
       "4                  Kothanur      2 BHK      1200.0   2.0   51.00    2"
      ]
     },
     "execution_count": 109,
     "metadata": {},
     "output_type": "execute_result"
    }
   ],
   "source": [
    "df4 = df3.copy()\n",
    "df4['total_sqft'] = df4['total_sqft'].apply(convert_sqrt_to_num)\n",
    "df4.head()"
   ]
  },
  {
   "cell_type": "markdown",
   "id": "929d6d28",
   "metadata": {},
   "source": [
    "### For below row, it shows total_sqft as 2475 which is an average of the range 2100-2850"
   ]
  },
  {
   "cell_type": "code",
   "execution_count": 110,
   "id": "0539832a",
   "metadata": {},
   "outputs": [
    {
     "data": {
      "text/plain": [
       "location      Yelahanka\n",
       "size              4 BHK\n",
       "total_sqft       2475.0\n",
       "bath                4.0\n",
       "price             186.0\n",
       "BHK                   4\n",
       "Name: 30, dtype: object"
      ]
     },
     "execution_count": 110,
     "metadata": {},
     "output_type": "execute_result"
    }
   ],
   "source": [
    "df4.loc[30]"
   ]
  },
  {
   "cell_type": "markdown",
   "id": "5fdb718b",
   "metadata": {},
   "source": [
    "### Add new feature called price per square feet"
   ]
  },
  {
   "cell_type": "code",
   "execution_count": 111,
   "id": "7078eecb",
   "metadata": {},
   "outputs": [
    {
     "data": {
      "text/html": [
       "<div>\n",
       "<style scoped>\n",
       "    .dataframe tbody tr th:only-of-type {\n",
       "        vertical-align: middle;\n",
       "    }\n",
       "\n",
       "    .dataframe tbody tr th {\n",
       "        vertical-align: top;\n",
       "    }\n",
       "\n",
       "    .dataframe thead th {\n",
       "        text-align: right;\n",
       "    }\n",
       "</style>\n",
       "<table border=\"1\" class=\"dataframe\">\n",
       "  <thead>\n",
       "    <tr style=\"text-align: right;\">\n",
       "      <th></th>\n",
       "      <th>location</th>\n",
       "      <th>size</th>\n",
       "      <th>total_sqft</th>\n",
       "      <th>bath</th>\n",
       "      <th>price</th>\n",
       "      <th>BHK</th>\n",
       "      <th>price_per_sqft</th>\n",
       "    </tr>\n",
       "  </thead>\n",
       "  <tbody>\n",
       "    <tr>\n",
       "      <th>0</th>\n",
       "      <td>Electronic City Phase II</td>\n",
       "      <td>2 BHK</td>\n",
       "      <td>1056.0</td>\n",
       "      <td>2.0</td>\n",
       "      <td>39.07</td>\n",
       "      <td>2</td>\n",
       "      <td>3699.810606</td>\n",
       "    </tr>\n",
       "    <tr>\n",
       "      <th>1</th>\n",
       "      <td>Chikka Tirupathi</td>\n",
       "      <td>4 Bedroom</td>\n",
       "      <td>2600.0</td>\n",
       "      <td>5.0</td>\n",
       "      <td>120.00</td>\n",
       "      <td>4</td>\n",
       "      <td>4615.384615</td>\n",
       "    </tr>\n",
       "    <tr>\n",
       "      <th>2</th>\n",
       "      <td>Uttarahalli</td>\n",
       "      <td>3 BHK</td>\n",
       "      <td>1440.0</td>\n",
       "      <td>2.0</td>\n",
       "      <td>62.00</td>\n",
       "      <td>3</td>\n",
       "      <td>4305.555556</td>\n",
       "    </tr>\n",
       "    <tr>\n",
       "      <th>3</th>\n",
       "      <td>Lingadheeranahalli</td>\n",
       "      <td>3 BHK</td>\n",
       "      <td>1521.0</td>\n",
       "      <td>3.0</td>\n",
       "      <td>95.00</td>\n",
       "      <td>3</td>\n",
       "      <td>6245.890861</td>\n",
       "    </tr>\n",
       "    <tr>\n",
       "      <th>4</th>\n",
       "      <td>Kothanur</td>\n",
       "      <td>2 BHK</td>\n",
       "      <td>1200.0</td>\n",
       "      <td>2.0</td>\n",
       "      <td>51.00</td>\n",
       "      <td>2</td>\n",
       "      <td>4250.000000</td>\n",
       "    </tr>\n",
       "  </tbody>\n",
       "</table>\n",
       "</div>"
      ],
      "text/plain": [
       "                   location       size  total_sqft  bath   price  BHK  \\\n",
       "0  Electronic City Phase II      2 BHK      1056.0   2.0   39.07    2   \n",
       "1          Chikka Tirupathi  4 Bedroom      2600.0   5.0  120.00    4   \n",
       "2               Uttarahalli      3 BHK      1440.0   2.0   62.00    3   \n",
       "3        Lingadheeranahalli      3 BHK      1521.0   3.0   95.00    3   \n",
       "4                  Kothanur      2 BHK      1200.0   2.0   51.00    2   \n",
       "\n",
       "   price_per_sqft  \n",
       "0     3699.810606  \n",
       "1     4615.384615  \n",
       "2     4305.555556  \n",
       "3     6245.890861  \n",
       "4     4250.000000  "
      ]
     },
     "execution_count": 111,
     "metadata": {},
     "output_type": "execute_result"
    }
   ],
   "source": [
    "df5 = df4.copy()\n",
    "df5['price_per_sqft'] = df5['price']*100000/df5['total_sqft']\n",
    "df5.head()"
   ]
  },
  {
   "cell_type": "code",
   "execution_count": 112,
   "id": "54d6023f",
   "metadata": {},
   "outputs": [
    {
     "data": {
      "text/plain": [
       "1304"
      ]
     },
     "execution_count": 112,
     "metadata": {},
     "output_type": "execute_result"
    }
   ],
   "source": [
    "len(df5.location.unique())"
   ]
  },
  {
   "cell_type": "markdown",
   "id": "dd444480",
   "metadata": {},
   "source": [
    "### Examine locations which is a categorical variable. We need to apply dimensionality reduction technique here to reduce number of locations"
   ]
  },
  {
   "cell_type": "code",
   "execution_count": 113,
   "id": "8284ca70",
   "metadata": {},
   "outputs": [
    {
     "data": {
      "text/plain": [
       "location\n",
       "Whitefield               535\n",
       "Sarjapur  Road           392\n",
       "Electronic City          304\n",
       "Kanakpura Road           266\n",
       "Thanisandra              236\n",
       "                        ... \n",
       "1 Giri Nagar               1\n",
       "Kanakapura Road,           1\n",
       "Kanakapura main  Road      1\n",
       "Karnataka Shabarimala      1\n",
       "whitefiled                 1\n",
       "Name: location, Length: 1293, dtype: int64"
      ]
     },
     "execution_count": 113,
     "metadata": {},
     "output_type": "execute_result"
    }
   ],
   "source": [
    "df5.location = df5.location.apply(lambda x: x.strip())\n",
    "\n",
    "location_stats = df5.groupby('location')['location'].agg('count').sort_values(ascending=False)\n",
    "location_stats"
   ]
  },
  {
   "cell_type": "code",
   "execution_count": 114,
   "id": "22c1bf84",
   "metadata": {},
   "outputs": [
    {
     "data": {
      "text/plain": [
       "1052"
      ]
     },
     "execution_count": 114,
     "metadata": {},
     "output_type": "execute_result"
    }
   ],
   "source": [
    "len(location_stats[location_stats<=10])"
   ]
  },
  {
   "cell_type": "markdown",
   "id": "2f7c1389",
   "metadata": {},
   "source": [
    "# Dimensionality Reduction\n",
    "\n",
    "\n",
    "### Any location having less than 10 data points should be tagged as \"other\" location. This way number of categories can be reduced by huge amount. Later on when we do one hot encoding, it will help us with having fewer dummy columns"
   ]
  },
  {
   "cell_type": "code",
   "execution_count": 115,
   "id": "ba5515dc",
   "metadata": {},
   "outputs": [
    {
     "data": {
      "text/plain": [
       "location\n",
       "Basapura                 10\n",
       "1st Block Koramangala    10\n",
       "Gunjur Palya             10\n",
       "Kalkere                  10\n",
       "Sector 1 HSR Layout      10\n",
       "                         ..\n",
       "1 Giri Nagar              1\n",
       "Kanakapura Road,          1\n",
       "Kanakapura main  Road     1\n",
       "Karnataka Shabarimala     1\n",
       "whitefiled                1\n",
       "Name: location, Length: 1052, dtype: int64"
      ]
     },
     "execution_count": 115,
     "metadata": {},
     "output_type": "execute_result"
    }
   ],
   "source": [
    "location_stats_less_than_10 = location_stats[location_stats<=10]\n",
    "location_stats_less_than_10"
   ]
  },
  {
   "cell_type": "code",
   "execution_count": 116,
   "id": "5d58bdc8",
   "metadata": {},
   "outputs": [
    {
     "data": {
      "text/plain": [
       "1293"
      ]
     },
     "execution_count": 116,
     "metadata": {},
     "output_type": "execute_result"
    }
   ],
   "source": [
    "len(df5.location.unique())"
   ]
  },
  {
   "cell_type": "code",
   "execution_count": 117,
   "id": "190a2c1f",
   "metadata": {},
   "outputs": [
    {
     "data": {
      "text/plain": [
       "242"
      ]
     },
     "execution_count": 117,
     "metadata": {},
     "output_type": "execute_result"
    }
   ],
   "source": [
    "df5.location = df5.location.apply(lambda x: 'other' if x in location_stats_less_than_10 else x)\n",
    "len(df5.location.unique())"
   ]
  },
  {
   "cell_type": "code",
   "execution_count": 118,
   "id": "9322b465",
   "metadata": {},
   "outputs": [
    {
     "data": {
      "text/html": [
       "<div>\n",
       "<style scoped>\n",
       "    .dataframe tbody tr th:only-of-type {\n",
       "        vertical-align: middle;\n",
       "    }\n",
       "\n",
       "    .dataframe tbody tr th {\n",
       "        vertical-align: top;\n",
       "    }\n",
       "\n",
       "    .dataframe thead th {\n",
       "        text-align: right;\n",
       "    }\n",
       "</style>\n",
       "<table border=\"1\" class=\"dataframe\">\n",
       "  <thead>\n",
       "    <tr style=\"text-align: right;\">\n",
       "      <th></th>\n",
       "      <th>location</th>\n",
       "      <th>size</th>\n",
       "      <th>total_sqft</th>\n",
       "      <th>bath</th>\n",
       "      <th>price</th>\n",
       "      <th>BHK</th>\n",
       "      <th>price_per_sqft</th>\n",
       "    </tr>\n",
       "  </thead>\n",
       "  <tbody>\n",
       "    <tr>\n",
       "      <th>0</th>\n",
       "      <td>Electronic City Phase II</td>\n",
       "      <td>2 BHK</td>\n",
       "      <td>1056.0</td>\n",
       "      <td>2.0</td>\n",
       "      <td>39.07</td>\n",
       "      <td>2</td>\n",
       "      <td>3699.810606</td>\n",
       "    </tr>\n",
       "    <tr>\n",
       "      <th>1</th>\n",
       "      <td>Chikka Tirupathi</td>\n",
       "      <td>4 Bedroom</td>\n",
       "      <td>2600.0</td>\n",
       "      <td>5.0</td>\n",
       "      <td>120.00</td>\n",
       "      <td>4</td>\n",
       "      <td>4615.384615</td>\n",
       "    </tr>\n",
       "    <tr>\n",
       "      <th>2</th>\n",
       "      <td>Uttarahalli</td>\n",
       "      <td>3 BHK</td>\n",
       "      <td>1440.0</td>\n",
       "      <td>2.0</td>\n",
       "      <td>62.00</td>\n",
       "      <td>3</td>\n",
       "      <td>4305.555556</td>\n",
       "    </tr>\n",
       "    <tr>\n",
       "      <th>3</th>\n",
       "      <td>Lingadheeranahalli</td>\n",
       "      <td>3 BHK</td>\n",
       "      <td>1521.0</td>\n",
       "      <td>3.0</td>\n",
       "      <td>95.00</td>\n",
       "      <td>3</td>\n",
       "      <td>6245.890861</td>\n",
       "    </tr>\n",
       "    <tr>\n",
       "      <th>4</th>\n",
       "      <td>Kothanur</td>\n",
       "      <td>2 BHK</td>\n",
       "      <td>1200.0</td>\n",
       "      <td>2.0</td>\n",
       "      <td>51.00</td>\n",
       "      <td>2</td>\n",
       "      <td>4250.000000</td>\n",
       "    </tr>\n",
       "    <tr>\n",
       "      <th>5</th>\n",
       "      <td>Whitefield</td>\n",
       "      <td>2 BHK</td>\n",
       "      <td>1170.0</td>\n",
       "      <td>2.0</td>\n",
       "      <td>38.00</td>\n",
       "      <td>2</td>\n",
       "      <td>3247.863248</td>\n",
       "    </tr>\n",
       "    <tr>\n",
       "      <th>6</th>\n",
       "      <td>Old Airport Road</td>\n",
       "      <td>4 BHK</td>\n",
       "      <td>2732.0</td>\n",
       "      <td>4.0</td>\n",
       "      <td>204.00</td>\n",
       "      <td>4</td>\n",
       "      <td>7467.057101</td>\n",
       "    </tr>\n",
       "    <tr>\n",
       "      <th>7</th>\n",
       "      <td>Rajaji Nagar</td>\n",
       "      <td>4 BHK</td>\n",
       "      <td>3300.0</td>\n",
       "      <td>4.0</td>\n",
       "      <td>600.00</td>\n",
       "      <td>4</td>\n",
       "      <td>18181.818182</td>\n",
       "    </tr>\n",
       "    <tr>\n",
       "      <th>8</th>\n",
       "      <td>Marathahalli</td>\n",
       "      <td>3 BHK</td>\n",
       "      <td>1310.0</td>\n",
       "      <td>3.0</td>\n",
       "      <td>63.25</td>\n",
       "      <td>3</td>\n",
       "      <td>4828.244275</td>\n",
       "    </tr>\n",
       "    <tr>\n",
       "      <th>9</th>\n",
       "      <td>other</td>\n",
       "      <td>6 Bedroom</td>\n",
       "      <td>1020.0</td>\n",
       "      <td>6.0</td>\n",
       "      <td>370.00</td>\n",
       "      <td>6</td>\n",
       "      <td>36274.509804</td>\n",
       "    </tr>\n",
       "  </tbody>\n",
       "</table>\n",
       "</div>"
      ],
      "text/plain": [
       "                   location       size  total_sqft  bath   price  BHK  \\\n",
       "0  Electronic City Phase II      2 BHK      1056.0   2.0   39.07    2   \n",
       "1          Chikka Tirupathi  4 Bedroom      2600.0   5.0  120.00    4   \n",
       "2               Uttarahalli      3 BHK      1440.0   2.0   62.00    3   \n",
       "3        Lingadheeranahalli      3 BHK      1521.0   3.0   95.00    3   \n",
       "4                  Kothanur      2 BHK      1200.0   2.0   51.00    2   \n",
       "5                Whitefield      2 BHK      1170.0   2.0   38.00    2   \n",
       "6          Old Airport Road      4 BHK      2732.0   4.0  204.00    4   \n",
       "7              Rajaji Nagar      4 BHK      3300.0   4.0  600.00    4   \n",
       "8              Marathahalli      3 BHK      1310.0   3.0   63.25    3   \n",
       "9                     other  6 Bedroom      1020.0   6.0  370.00    6   \n",
       "\n",
       "   price_per_sqft  \n",
       "0     3699.810606  \n",
       "1     4615.384615  \n",
       "2     4305.555556  \n",
       "3     6245.890861  \n",
       "4     4250.000000  \n",
       "5     3247.863248  \n",
       "6     7467.057101  \n",
       "7    18181.818182  \n",
       "8     4828.244275  \n",
       "9    36274.509804  "
      ]
     },
     "execution_count": 118,
     "metadata": {},
     "output_type": "execute_result"
    }
   ],
   "source": [
    "df5.head(10)"
   ]
  },
  {
   "cell_type": "markdown",
   "id": "2d92098d",
   "metadata": {},
   "source": [
    "# Outlier Removal Using Business Logic\n",
    "\n",
    "#### As a data scientist when you have a conversation with your business manager (who has expertise in real estate), he will tell you that normally square ft per bedroom is 300 (i.e. 2 bhk apartment is minimum 600 sqft. If you have for example 400 sqft apartment with 2 bhk than that seems suspicious and can be removed as an outlier. We will remove such outliers by keeping our minimum thresold per bhk to be 300 sqft"
   ]
  },
  {
   "cell_type": "code",
   "execution_count": 119,
   "id": "7095c81a",
   "metadata": {},
   "outputs": [
    {
     "data": {
      "text/html": [
       "<div>\n",
       "<style scoped>\n",
       "    .dataframe tbody tr th:only-of-type {\n",
       "        vertical-align: middle;\n",
       "    }\n",
       "\n",
       "    .dataframe tbody tr th {\n",
       "        vertical-align: top;\n",
       "    }\n",
       "\n",
       "    .dataframe thead th {\n",
       "        text-align: right;\n",
       "    }\n",
       "</style>\n",
       "<table border=\"1\" class=\"dataframe\">\n",
       "  <thead>\n",
       "    <tr style=\"text-align: right;\">\n",
       "      <th></th>\n",
       "      <th>location</th>\n",
       "      <th>size</th>\n",
       "      <th>total_sqft</th>\n",
       "      <th>bath</th>\n",
       "      <th>price</th>\n",
       "      <th>BHK</th>\n",
       "      <th>price_per_sqft</th>\n",
       "    </tr>\n",
       "  </thead>\n",
       "  <tbody>\n",
       "    <tr>\n",
       "      <th>9</th>\n",
       "      <td>other</td>\n",
       "      <td>6 Bedroom</td>\n",
       "      <td>1020.0</td>\n",
       "      <td>6.0</td>\n",
       "      <td>370.0</td>\n",
       "      <td>6</td>\n",
       "      <td>36274.509804</td>\n",
       "    </tr>\n",
       "    <tr>\n",
       "      <th>45</th>\n",
       "      <td>HSR Layout</td>\n",
       "      <td>8 Bedroom</td>\n",
       "      <td>600.0</td>\n",
       "      <td>9.0</td>\n",
       "      <td>200.0</td>\n",
       "      <td>8</td>\n",
       "      <td>33333.333333</td>\n",
       "    </tr>\n",
       "    <tr>\n",
       "      <th>58</th>\n",
       "      <td>Murugeshpalya</td>\n",
       "      <td>6 Bedroom</td>\n",
       "      <td>1407.0</td>\n",
       "      <td>4.0</td>\n",
       "      <td>150.0</td>\n",
       "      <td>6</td>\n",
       "      <td>10660.980810</td>\n",
       "    </tr>\n",
       "    <tr>\n",
       "      <th>68</th>\n",
       "      <td>Devarachikkanahalli</td>\n",
       "      <td>8 Bedroom</td>\n",
       "      <td>1350.0</td>\n",
       "      <td>7.0</td>\n",
       "      <td>85.0</td>\n",
       "      <td>8</td>\n",
       "      <td>6296.296296</td>\n",
       "    </tr>\n",
       "    <tr>\n",
       "      <th>70</th>\n",
       "      <td>other</td>\n",
       "      <td>3 Bedroom</td>\n",
       "      <td>500.0</td>\n",
       "      <td>3.0</td>\n",
       "      <td>100.0</td>\n",
       "      <td>3</td>\n",
       "      <td>20000.000000</td>\n",
       "    </tr>\n",
       "  </tbody>\n",
       "</table>\n",
       "</div>"
      ],
      "text/plain": [
       "               location       size  total_sqft  bath  price  BHK  \\\n",
       "9                 other  6 Bedroom      1020.0   6.0  370.0    6   \n",
       "45           HSR Layout  8 Bedroom       600.0   9.0  200.0    8   \n",
       "58        Murugeshpalya  6 Bedroom      1407.0   4.0  150.0    6   \n",
       "68  Devarachikkanahalli  8 Bedroom      1350.0   7.0   85.0    8   \n",
       "70                other  3 Bedroom       500.0   3.0  100.0    3   \n",
       "\n",
       "    price_per_sqft  \n",
       "9     36274.509804  \n",
       "45    33333.333333  \n",
       "58    10660.980810  \n",
       "68     6296.296296  \n",
       "70    20000.000000  "
      ]
     },
     "execution_count": 119,
     "metadata": {},
     "output_type": "execute_result"
    }
   ],
   "source": [
    "df5[df5.total_sqft/df5.BHK<300].head()"
   ]
  },
  {
   "cell_type": "markdown",
   "id": "033b51b6",
   "metadata": {},
   "source": [
    "#### Check above data points. We have 6 bhk apartment with 1020 sqft. Another one is 8 bhk and total sqft is 600. These are clear data errors that can be removed safely"
   ]
  },
  {
   "cell_type": "code",
   "execution_count": 120,
   "id": "9587f621",
   "metadata": {},
   "outputs": [
    {
     "data": {
      "text/plain": [
       "(13246, 7)"
      ]
     },
     "execution_count": 120,
     "metadata": {},
     "output_type": "execute_result"
    }
   ],
   "source": [
    "df5.shape"
   ]
  },
  {
   "cell_type": "code",
   "execution_count": 121,
   "id": "186f7632",
   "metadata": {},
   "outputs": [
    {
     "data": {
      "text/plain": [
       "(12502, 7)"
      ]
     },
     "execution_count": 121,
     "metadata": {},
     "output_type": "execute_result"
    }
   ],
   "source": [
    "df6 = df5[~(df5.total_sqft/df5.BHK<300)]\n",
    "df6.shape"
   ]
  },
  {
   "cell_type": "markdown",
   "id": "cc236da5",
   "metadata": {},
   "source": [
    "# Outlier Removal Using Standard Deviation and Mean"
   ]
  },
  {
   "cell_type": "code",
   "execution_count": 122,
   "id": "1077538e",
   "metadata": {},
   "outputs": [
    {
     "data": {
      "text/plain": [
       "count     12456.000000\n",
       "mean       6308.502826\n",
       "std        4168.127339\n",
       "min         267.829813\n",
       "25%        4210.526316\n",
       "50%        5294.117647\n",
       "75%        6916.666667\n",
       "max      176470.588235\n",
       "Name: price_per_sqft, dtype: float64"
      ]
     },
     "execution_count": 122,
     "metadata": {},
     "output_type": "execute_result"
    }
   ],
   "source": [
    "df6.price_per_sqft.describe()"
   ]
  },
  {
   "cell_type": "markdown",
   "id": "773fbfbc",
   "metadata": {},
   "source": [
    "#### Here we find that min price per sqft is 267 rs/sqft whereas max is 12000000, this shows a wide variation in property prices. We should remove outliers per location using mean and one standard deviation"
   ]
  },
  {
   "cell_type": "code",
   "execution_count": 123,
   "id": "d9ec7777",
   "metadata": {},
   "outputs": [
    {
     "data": {
      "text/plain": [
       "(10241, 7)"
      ]
     },
     "execution_count": 123,
     "metadata": {},
     "output_type": "execute_result"
    }
   ],
   "source": [
    "def remove_pps_outliers(df):\n",
    "    df_out = pd.DataFrame()\n",
    "    for key,subdf in df.groupby('location'):\n",
    "        m = np.mean(subdf.price_per_sqft)\n",
    "        st = np.std(subdf.price_per_sqft)\n",
    "        reduced_df = subdf[(subdf.price_per_sqft>(m-st)) & (subdf.price_per_sqft<=(m+st))]\n",
    "        df_out = pd.concat([df_out,reduced_df],ignore_index=True)\n",
    "    return df_out\n",
    "df7 = remove_pps_outliers(df6)\n",
    "df7.shape"
   ]
  },
  {
   "cell_type": "markdown",
   "id": "58561363",
   "metadata": {},
   "source": [
    "#### Let's check if for a given location how does the 2 BHK and 3 BHK property prices look like"
   ]
  },
  {
   "cell_type": "code",
   "execution_count": 150,
   "id": "4169ec89",
   "metadata": {},
   "outputs": [
    {
     "data": {
      "image/png": "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\n",
      "text/plain": [
       "<Figure size 1500x1000 with 1 Axes>"
      ]
     },
     "metadata": {},
     "output_type": "display_data"
    }
   ],
   "source": [
    "def plot_scatter_chart(df,location):\n",
    "    bhk2 = df[(df.location==location) & (df.BHK==2)]\n",
    "    bhk3 = df[(df.location==location) & (df.BHK==3)]\n",
    "    matplotlib.rcParams['figure.figsize'] = (15,10)\n",
    "    plt.scatter(bhk2.total_sqft,bhk2.price,color='blue',label = '2 BHK',s=50)\n",
    "    plt.scatter(bhk3.total_sqft,bhk3.price,marker = '+',color='green',label = '3 BHK',s=50)\n",
    "    plt.xlabel(\"Total Square Feet Area\")\n",
    "    plt.ylabel(\"Price Per Square Feet\")\n",
    "    plt.title(location)\n",
    "    plt.legend()\n",
    "plot_scatter_chart(df7,\"Rajaji Nagar\")"
   ]
  },
  {
   "cell_type": "code",
   "execution_count": 151,
   "id": "0b3b296d",
   "metadata": {},
   "outputs": [
    {
     "data": {
      "image/png": "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\n",
      "text/plain": [
       "<Figure size 1500x1000 with 1 Axes>"
      ]
     },
     "metadata": {},
     "output_type": "display_data"
    }
   ],
   "source": [
    "plot_scatter_chart(df7,\"Hebbal\")\n"
   ]
  },
  {
   "cell_type": "markdown",
   "id": "2c3b90e9",
   "metadata": {},
   "source": [
    "#### We should also remove properties where for same location, the price of (for example) 3 bedroom apartment is less than 2 bedroom apartment (with same square ft area). What we will do is for a given location, we will build a dictionary of stats per bhk, i.e.\n",
    "\n",
    "{\n",
    "\n",
    "    '1' : {\n",
    "        'mean': 4000,\n",
    "        'std: 2000,\n",
    "        'count': 34\n",
    "    },\n",
    "    \n",
    "    '2' : {\n",
    "        'mean': 4300,\n",
    "        'std: 2300,\n",
    "        'count': 22\n",
    "    },    \n",
    "}\n",
    "\n",
    "####  Now we can remove those 2 BHK apartments whose price_per_sqft is less than mean price_per_sqft of 1 BHK apartment"
   ]
  },
  {
   "cell_type": "code",
   "execution_count": 125,
   "id": "a54eeb94",
   "metadata": {},
   "outputs": [
    {
     "data": {
      "text/plain": [
       "(7329, 7)"
      ]
     },
     "execution_count": 125,
     "metadata": {},
     "output_type": "execute_result"
    }
   ],
   "source": [
    "def remove_bhk_outliers(df):\n",
    "    exclude_indices = np.array([])\n",
    "    for location, location_df in df.groupby('location'):\n",
    "        bhk_stats = {}\n",
    "        for bhk, bhk_df in location_df.groupby('BHK'):\n",
    "            bhk_stats[bhk] = {\n",
    "                'mean': np.mean(bhk_df.price_per_sqft),\n",
    "                'std': np.std(bhk_df.price_per_sqft),\n",
    "                'count': bhk_df.shape[0]\n",
    "            }\n",
    "        for bhk, bhk_df in location_df.groupby('BHK'):\n",
    "            stats = bhk_stats.get(bhk-1)\n",
    "            if stats and stats['count']>5:\n",
    "                exclude_indices = np.append(exclude_indices, bhk_df[bhk_df.price_per_sqft<(stats['mean'])].index.values)\n",
    "    return df.drop(exclude_indices,axis='index')\n",
    "df8 = remove_bhk_outliers(df7)\n",
    "# df8 = df7.copy()\n",
    "df8.shape"
   ]
  },
  {
   "cell_type": "markdown",
   "id": "a969830c",
   "metadata": {},
   "source": [
    "### Plot same scatter chart again to visualize price_per_sqft for 2 BHK and 3 BHK properties"
   ]
  },
  {
   "cell_type": "code",
   "execution_count": 126,
   "id": "de97d362",
   "metadata": {},
   "outputs": [
    {
     "data": {
      "image/png": "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\n",
      "text/plain": [
       "<Figure size 1500x1000 with 1 Axes>"
      ]
     },
     "metadata": {},
     "output_type": "display_data"
    }
   ],
   "source": [
    "plot_scatter_chart(df8,\"Rajaji Nagar\")"
   ]
  },
  {
   "cell_type": "code",
   "execution_count": 152,
   "id": "b119d6aa",
   "metadata": {},
   "outputs": [
    {
     "data": {
      "image/png": "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\n",
      "text/plain": [
       "<Figure size 1500x1000 with 1 Axes>"
      ]
     },
     "metadata": {},
     "output_type": "display_data"
    }
   ],
   "source": [
    "plot_scatter_chart(df8,\"Hebbal\")"
   ]
  },
  {
   "cell_type": "code",
   "execution_count": 127,
   "id": "3a007015",
   "metadata": {},
   "outputs": [
    {
     "data": {
      "text/plain": [
       "Text(0, 0.5, 'Count')"
      ]
     },
     "execution_count": 127,
     "metadata": {},
     "output_type": "execute_result"
    },
    {
     "data": {
      "image/png": "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\n",
      "text/plain": [
       "<Figure size 1500x1000 with 1 Axes>"
      ]
     },
     "metadata": {},
     "output_type": "display_data"
    }
   ],
   "source": [
    "plt.hist(df8.price_per_sqft,rwidth=0.8)\n",
    "plt.xlabel(\"Price Per Square Feet\")\n",
    "plt.ylabel(\"Count\")"
   ]
  },
  {
   "cell_type": "markdown",
   "id": "6cb9422b",
   "metadata": {},
   "source": [
    "# Outlier Removal Using Bathrooms Feature"
   ]
  },
  {
   "cell_type": "code",
   "execution_count": 128,
   "id": "9f58e613",
   "metadata": {},
   "outputs": [
    {
     "data": {
      "text/plain": [
       "array([ 4.,  3.,  2.,  5.,  8.,  1.,  6.,  7.,  9., 12., 16., 13.])"
      ]
     },
     "execution_count": 128,
     "metadata": {},
     "output_type": "execute_result"
    }
   ],
   "source": [
    "df8.bath.unique()"
   ]
  },
  {
   "cell_type": "code",
   "execution_count": 129,
   "id": "c7f1ebfa",
   "metadata": {},
   "outputs": [
    {
     "data": {
      "text/plain": [
       "Text(0, 0.5, 'Count')"
      ]
     },
     "execution_count": 129,
     "metadata": {},
     "output_type": "execute_result"
    },
    {
     "data": {
      "image/png": "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\n",
      "text/plain": [
       "<Figure size 1500x1000 with 1 Axes>"
      ]
     },
     "metadata": {},
     "output_type": "display_data"
    }
   ],
   "source": [
    "plt.hist(df8.bath,rwidth=0.8)\n",
    "plt.xlabel(\"Number of bathrooms\")\n",
    "plt.ylabel(\"Count\")"
   ]
  },
  {
   "cell_type": "code",
   "execution_count": 130,
   "id": "df5093ea",
   "metadata": {},
   "outputs": [
    {
     "data": {
      "text/html": [
       "<div>\n",
       "<style scoped>\n",
       "    .dataframe tbody tr th:only-of-type {\n",
       "        vertical-align: middle;\n",
       "    }\n",
       "\n",
       "    .dataframe tbody tr th {\n",
       "        vertical-align: top;\n",
       "    }\n",
       "\n",
       "    .dataframe thead th {\n",
       "        text-align: right;\n",
       "    }\n",
       "</style>\n",
       "<table border=\"1\" class=\"dataframe\">\n",
       "  <thead>\n",
       "    <tr style=\"text-align: right;\">\n",
       "      <th></th>\n",
       "      <th>location</th>\n",
       "      <th>size</th>\n",
       "      <th>total_sqft</th>\n",
       "      <th>bath</th>\n",
       "      <th>price</th>\n",
       "      <th>BHK</th>\n",
       "      <th>price_per_sqft</th>\n",
       "    </tr>\n",
       "  </thead>\n",
       "  <tbody>\n",
       "    <tr>\n",
       "      <th>5277</th>\n",
       "      <td>Neeladri Nagar</td>\n",
       "      <td>10 BHK</td>\n",
       "      <td>4000.0</td>\n",
       "      <td>12.0</td>\n",
       "      <td>160.0</td>\n",
       "      <td>10</td>\n",
       "      <td>4000.000000</td>\n",
       "    </tr>\n",
       "    <tr>\n",
       "      <th>8486</th>\n",
       "      <td>other</td>\n",
       "      <td>10 BHK</td>\n",
       "      <td>12000.0</td>\n",
       "      <td>12.0</td>\n",
       "      <td>525.0</td>\n",
       "      <td>10</td>\n",
       "      <td>4375.000000</td>\n",
       "    </tr>\n",
       "    <tr>\n",
       "      <th>8575</th>\n",
       "      <td>other</td>\n",
       "      <td>16 BHK</td>\n",
       "      <td>10000.0</td>\n",
       "      <td>16.0</td>\n",
       "      <td>550.0</td>\n",
       "      <td>16</td>\n",
       "      <td>5500.000000</td>\n",
       "    </tr>\n",
       "    <tr>\n",
       "      <th>9308</th>\n",
       "      <td>other</td>\n",
       "      <td>11 BHK</td>\n",
       "      <td>6000.0</td>\n",
       "      <td>12.0</td>\n",
       "      <td>150.0</td>\n",
       "      <td>11</td>\n",
       "      <td>2500.000000</td>\n",
       "    </tr>\n",
       "    <tr>\n",
       "      <th>9639</th>\n",
       "      <td>other</td>\n",
       "      <td>13 BHK</td>\n",
       "      <td>5425.0</td>\n",
       "      <td>13.0</td>\n",
       "      <td>275.0</td>\n",
       "      <td>13</td>\n",
       "      <td>5069.124424</td>\n",
       "    </tr>\n",
       "  </tbody>\n",
       "</table>\n",
       "</div>"
      ],
      "text/plain": [
       "            location    size  total_sqft  bath  price  BHK  price_per_sqft\n",
       "5277  Neeladri Nagar  10 BHK      4000.0  12.0  160.0   10     4000.000000\n",
       "8486           other  10 BHK     12000.0  12.0  525.0   10     4375.000000\n",
       "8575           other  16 BHK     10000.0  16.0  550.0   16     5500.000000\n",
       "9308           other  11 BHK      6000.0  12.0  150.0   11     2500.000000\n",
       "9639           other  13 BHK      5425.0  13.0  275.0   13     5069.124424"
      ]
     },
     "execution_count": 130,
     "metadata": {},
     "output_type": "execute_result"
    }
   ],
   "source": [
    "df8[df8.bath>10]"
   ]
  },
  {
   "cell_type": "markdown",
   "id": "e9304fa8",
   "metadata": {},
   "source": [
    "### It is unusual to have 2 more bathrooms than number of bedrooms in a home"
   ]
  },
  {
   "cell_type": "code",
   "execution_count": 131,
   "id": "185c2875",
   "metadata": {},
   "outputs": [
    {
     "data": {
      "text/html": [
       "<div>\n",
       "<style scoped>\n",
       "    .dataframe tbody tr th:only-of-type {\n",
       "        vertical-align: middle;\n",
       "    }\n",
       "\n",
       "    .dataframe tbody tr th {\n",
       "        vertical-align: top;\n",
       "    }\n",
       "\n",
       "    .dataframe thead th {\n",
       "        text-align: right;\n",
       "    }\n",
       "</style>\n",
       "<table border=\"1\" class=\"dataframe\">\n",
       "  <thead>\n",
       "    <tr style=\"text-align: right;\">\n",
       "      <th></th>\n",
       "      <th>location</th>\n",
       "      <th>size</th>\n",
       "      <th>total_sqft</th>\n",
       "      <th>bath</th>\n",
       "      <th>price</th>\n",
       "      <th>BHK</th>\n",
       "      <th>price_per_sqft</th>\n",
       "    </tr>\n",
       "  </thead>\n",
       "  <tbody>\n",
       "    <tr>\n",
       "      <th>1626</th>\n",
       "      <td>Chikkabanavar</td>\n",
       "      <td>4 Bedroom</td>\n",
       "      <td>2460.0</td>\n",
       "      <td>7.0</td>\n",
       "      <td>80.0</td>\n",
       "      <td>4</td>\n",
       "      <td>3252.032520</td>\n",
       "    </tr>\n",
       "    <tr>\n",
       "      <th>5238</th>\n",
       "      <td>Nagasandra</td>\n",
       "      <td>4 Bedroom</td>\n",
       "      <td>7000.0</td>\n",
       "      <td>8.0</td>\n",
       "      <td>450.0</td>\n",
       "      <td>4</td>\n",
       "      <td>6428.571429</td>\n",
       "    </tr>\n",
       "    <tr>\n",
       "      <th>6711</th>\n",
       "      <td>Thanisandra</td>\n",
       "      <td>3 BHK</td>\n",
       "      <td>1806.0</td>\n",
       "      <td>6.0</td>\n",
       "      <td>116.0</td>\n",
       "      <td>3</td>\n",
       "      <td>6423.034330</td>\n",
       "    </tr>\n",
       "    <tr>\n",
       "      <th>8411</th>\n",
       "      <td>other</td>\n",
       "      <td>6 BHK</td>\n",
       "      <td>11338.0</td>\n",
       "      <td>9.0</td>\n",
       "      <td>1000.0</td>\n",
       "      <td>6</td>\n",
       "      <td>8819.897689</td>\n",
       "    </tr>\n",
       "  </tbody>\n",
       "</table>\n",
       "</div>"
      ],
      "text/plain": [
       "           location       size  total_sqft  bath   price  BHK  price_per_sqft\n",
       "1626  Chikkabanavar  4 Bedroom      2460.0   7.0    80.0    4     3252.032520\n",
       "5238     Nagasandra  4 Bedroom      7000.0   8.0   450.0    4     6428.571429\n",
       "6711    Thanisandra      3 BHK      1806.0   6.0   116.0    3     6423.034330\n",
       "8411          other      6 BHK     11338.0   9.0  1000.0    6     8819.897689"
      ]
     },
     "execution_count": 131,
     "metadata": {},
     "output_type": "execute_result"
    }
   ],
   "source": [
    "df8[df8.bath>df8.BHK+2]"
   ]
  },
  {
   "cell_type": "markdown",
   "id": "12394046",
   "metadata": {},
   "source": [
    "#### Again the business manager has a conversation with you (i.e. a data scientist) that if you have 4 bedroom home and even if you have bathroom in all 4 rooms plus one guest bathroom, you will have total bath = total bed + 1 max. Anything above that is an outlier or a data error and can be removed"
   ]
  },
  {
   "cell_type": "code",
   "execution_count": 132,
   "id": "4feed4fb",
   "metadata": {},
   "outputs": [
    {
     "data": {
      "text/plain": [
       "(7251, 7)"
      ]
     },
     "execution_count": 132,
     "metadata": {},
     "output_type": "execute_result"
    }
   ],
   "source": [
    "df9 = df8[df8.bath<df8.BHK+2]\n",
    "df9.shape"
   ]
  },
  {
   "cell_type": "code",
   "execution_count": 133,
   "id": "4a255f2f",
   "metadata": {},
   "outputs": [
    {
     "data": {
      "text/html": [
       "<div>\n",
       "<style scoped>\n",
       "    .dataframe tbody tr th:only-of-type {\n",
       "        vertical-align: middle;\n",
       "    }\n",
       "\n",
       "    .dataframe tbody tr th {\n",
       "        vertical-align: top;\n",
       "    }\n",
       "\n",
       "    .dataframe thead th {\n",
       "        text-align: right;\n",
       "    }\n",
       "</style>\n",
       "<table border=\"1\" class=\"dataframe\">\n",
       "  <thead>\n",
       "    <tr style=\"text-align: right;\">\n",
       "      <th></th>\n",
       "      <th>location</th>\n",
       "      <th>size</th>\n",
       "      <th>total_sqft</th>\n",
       "      <th>bath</th>\n",
       "      <th>price</th>\n",
       "      <th>BHK</th>\n",
       "      <th>price_per_sqft</th>\n",
       "    </tr>\n",
       "  </thead>\n",
       "  <tbody>\n",
       "    <tr>\n",
       "      <th>0</th>\n",
       "      <td>1st Block Jayanagar</td>\n",
       "      <td>4 BHK</td>\n",
       "      <td>2850.0</td>\n",
       "      <td>4.0</td>\n",
       "      <td>428.0</td>\n",
       "      <td>4</td>\n",
       "      <td>15017.543860</td>\n",
       "    </tr>\n",
       "    <tr>\n",
       "      <th>1</th>\n",
       "      <td>1st Block Jayanagar</td>\n",
       "      <td>3 BHK</td>\n",
       "      <td>1630.0</td>\n",
       "      <td>3.0</td>\n",
       "      <td>194.0</td>\n",
       "      <td>3</td>\n",
       "      <td>11901.840491</td>\n",
       "    </tr>\n",
       "  </tbody>\n",
       "</table>\n",
       "</div>"
      ],
      "text/plain": [
       "              location   size  total_sqft  bath  price  BHK  price_per_sqft\n",
       "0  1st Block Jayanagar  4 BHK      2850.0   4.0  428.0    4    15017.543860\n",
       "1  1st Block Jayanagar  3 BHK      1630.0   3.0  194.0    3    11901.840491"
      ]
     },
     "execution_count": 133,
     "metadata": {},
     "output_type": "execute_result"
    }
   ],
   "source": [
    "df9.head(2)\n"
   ]
  },
  {
   "cell_type": "code",
   "execution_count": 134,
   "id": "83c7eb7f",
   "metadata": {},
   "outputs": [
    {
     "data": {
      "text/html": [
       "<div>\n",
       "<style scoped>\n",
       "    .dataframe tbody tr th:only-of-type {\n",
       "        vertical-align: middle;\n",
       "    }\n",
       "\n",
       "    .dataframe tbody tr th {\n",
       "        vertical-align: top;\n",
       "    }\n",
       "\n",
       "    .dataframe thead th {\n",
       "        text-align: right;\n",
       "    }\n",
       "</style>\n",
       "<table border=\"1\" class=\"dataframe\">\n",
       "  <thead>\n",
       "    <tr style=\"text-align: right;\">\n",
       "      <th></th>\n",
       "      <th>location</th>\n",
       "      <th>total_sqft</th>\n",
       "      <th>bath</th>\n",
       "      <th>price</th>\n",
       "      <th>BHK</th>\n",
       "    </tr>\n",
       "  </thead>\n",
       "  <tbody>\n",
       "    <tr>\n",
       "      <th>0</th>\n",
       "      <td>1st Block Jayanagar</td>\n",
       "      <td>2850.0</td>\n",
       "      <td>4.0</td>\n",
       "      <td>428.0</td>\n",
       "      <td>4</td>\n",
       "    </tr>\n",
       "    <tr>\n",
       "      <th>1</th>\n",
       "      <td>1st Block Jayanagar</td>\n",
       "      <td>1630.0</td>\n",
       "      <td>3.0</td>\n",
       "      <td>194.0</td>\n",
       "      <td>3</td>\n",
       "    </tr>\n",
       "    <tr>\n",
       "      <th>2</th>\n",
       "      <td>1st Block Jayanagar</td>\n",
       "      <td>1875.0</td>\n",
       "      <td>2.0</td>\n",
       "      <td>235.0</td>\n",
       "      <td>3</td>\n",
       "    </tr>\n",
       "  </tbody>\n",
       "</table>\n",
       "</div>"
      ],
      "text/plain": [
       "              location  total_sqft  bath  price  BHK\n",
       "0  1st Block Jayanagar      2850.0   4.0  428.0    4\n",
       "1  1st Block Jayanagar      1630.0   3.0  194.0    3\n",
       "2  1st Block Jayanagar      1875.0   2.0  235.0    3"
      ]
     },
     "execution_count": 134,
     "metadata": {},
     "output_type": "execute_result"
    }
   ],
   "source": [
    "df10 = df9.drop(['size','price_per_sqft'],axis='columns')\n",
    "df10.head(3)"
   ]
  },
  {
   "cell_type": "markdown",
   "id": "01dc539e",
   "metadata": {},
   "source": [
    "# Use One Hot Encoding For Location"
   ]
  },
  {
   "cell_type": "code",
   "execution_count": 135,
   "id": "befcaffa",
   "metadata": {},
   "outputs": [
    {
     "data": {
      "text/html": [
       "<div>\n",
       "<style scoped>\n",
       "    .dataframe tbody tr th:only-of-type {\n",
       "        vertical-align: middle;\n",
       "    }\n",
       "\n",
       "    .dataframe tbody tr th {\n",
       "        vertical-align: top;\n",
       "    }\n",
       "\n",
       "    .dataframe thead th {\n",
       "        text-align: right;\n",
       "    }\n",
       "</style>\n",
       "<table border=\"1\" class=\"dataframe\">\n",
       "  <thead>\n",
       "    <tr style=\"text-align: right;\">\n",
       "      <th></th>\n",
       "      <th>1st Block Jayanagar</th>\n",
       "      <th>1st Phase JP Nagar</th>\n",
       "      <th>2nd Phase Judicial Layout</th>\n",
       "      <th>2nd Stage Nagarbhavi</th>\n",
       "      <th>5th Block Hbr Layout</th>\n",
       "      <th>5th Phase JP Nagar</th>\n",
       "      <th>6th Phase JP Nagar</th>\n",
       "      <th>7th Phase JP Nagar</th>\n",
       "      <th>8th Phase JP Nagar</th>\n",
       "      <th>9th Phase JP Nagar</th>\n",
       "      <th>...</th>\n",
       "      <th>Vishveshwarya Layout</th>\n",
       "      <th>Vishwapriya Layout</th>\n",
       "      <th>Vittasandra</th>\n",
       "      <th>Whitefield</th>\n",
       "      <th>Yelachenahalli</th>\n",
       "      <th>Yelahanka</th>\n",
       "      <th>Yelahanka New Town</th>\n",
       "      <th>Yelenahalli</th>\n",
       "      <th>Yeshwanthpur</th>\n",
       "      <th>other</th>\n",
       "    </tr>\n",
       "  </thead>\n",
       "  <tbody>\n",
       "    <tr>\n",
       "      <th>0</th>\n",
       "      <td>1</td>\n",
       "      <td>0</td>\n",
       "      <td>0</td>\n",
       "      <td>0</td>\n",
       "      <td>0</td>\n",
       "      <td>0</td>\n",
       "      <td>0</td>\n",
       "      <td>0</td>\n",
       "      <td>0</td>\n",
       "      <td>0</td>\n",
       "      <td>...</td>\n",
       "      <td>0</td>\n",
       "      <td>0</td>\n",
       "      <td>0</td>\n",
       "      <td>0</td>\n",
       "      <td>0</td>\n",
       "      <td>0</td>\n",
       "      <td>0</td>\n",
       "      <td>0</td>\n",
       "      <td>0</td>\n",
       "      <td>0</td>\n",
       "    </tr>\n",
       "    <tr>\n",
       "      <th>1</th>\n",
       "      <td>1</td>\n",
       "      <td>0</td>\n",
       "      <td>0</td>\n",
       "      <td>0</td>\n",
       "      <td>0</td>\n",
       "      <td>0</td>\n",
       "      <td>0</td>\n",
       "      <td>0</td>\n",
       "      <td>0</td>\n",
       "      <td>0</td>\n",
       "      <td>...</td>\n",
       "      <td>0</td>\n",
       "      <td>0</td>\n",
       "      <td>0</td>\n",
       "      <td>0</td>\n",
       "      <td>0</td>\n",
       "      <td>0</td>\n",
       "      <td>0</td>\n",
       "      <td>0</td>\n",
       "      <td>0</td>\n",
       "      <td>0</td>\n",
       "    </tr>\n",
       "    <tr>\n",
       "      <th>2</th>\n",
       "      <td>1</td>\n",
       "      <td>0</td>\n",
       "      <td>0</td>\n",
       "      <td>0</td>\n",
       "      <td>0</td>\n",
       "      <td>0</td>\n",
       "      <td>0</td>\n",
       "      <td>0</td>\n",
       "      <td>0</td>\n",
       "      <td>0</td>\n",
       "      <td>...</td>\n",
       "      <td>0</td>\n",
       "      <td>0</td>\n",
       "      <td>0</td>\n",
       "      <td>0</td>\n",
       "      <td>0</td>\n",
       "      <td>0</td>\n",
       "      <td>0</td>\n",
       "      <td>0</td>\n",
       "      <td>0</td>\n",
       "      <td>0</td>\n",
       "    </tr>\n",
       "  </tbody>\n",
       "</table>\n",
       "<p>3 rows × 242 columns</p>\n",
       "</div>"
      ],
      "text/plain": [
       "   1st Block Jayanagar  1st Phase JP Nagar  2nd Phase Judicial Layout  \\\n",
       "0                    1                   0                          0   \n",
       "1                    1                   0                          0   \n",
       "2                    1                   0                          0   \n",
       "\n",
       "   2nd Stage Nagarbhavi  5th Block Hbr Layout  5th Phase JP Nagar  \\\n",
       "0                     0                     0                   0   \n",
       "1                     0                     0                   0   \n",
       "2                     0                     0                   0   \n",
       "\n",
       "   6th Phase JP Nagar  7th Phase JP Nagar  8th Phase JP Nagar  \\\n",
       "0                   0                   0                   0   \n",
       "1                   0                   0                   0   \n",
       "2                   0                   0                   0   \n",
       "\n",
       "   9th Phase JP Nagar  ...  Vishveshwarya Layout  Vishwapriya Layout  \\\n",
       "0                   0  ...                     0                   0   \n",
       "1                   0  ...                     0                   0   \n",
       "2                   0  ...                     0                   0   \n",
       "\n",
       "   Vittasandra  Whitefield  Yelachenahalli  Yelahanka  Yelahanka New Town  \\\n",
       "0            0           0               0          0                   0   \n",
       "1            0           0               0          0                   0   \n",
       "2            0           0               0          0                   0   \n",
       "\n",
       "   Yelenahalli  Yeshwanthpur  other  \n",
       "0            0             0      0  \n",
       "1            0             0      0  \n",
       "2            0             0      0  \n",
       "\n",
       "[3 rows x 242 columns]"
      ]
     },
     "execution_count": 135,
     "metadata": {},
     "output_type": "execute_result"
    }
   ],
   "source": [
    "dummies = pd.get_dummies(df10.location)\n",
    "dummies.head(3)"
   ]
  },
  {
   "cell_type": "code",
   "execution_count": 136,
   "id": "24f6da97",
   "metadata": {},
   "outputs": [
    {
     "data": {
      "text/html": [
       "<div>\n",
       "<style scoped>\n",
       "    .dataframe tbody tr th:only-of-type {\n",
       "        vertical-align: middle;\n",
       "    }\n",
       "\n",
       "    .dataframe tbody tr th {\n",
       "        vertical-align: top;\n",
       "    }\n",
       "\n",
       "    .dataframe thead th {\n",
       "        text-align: right;\n",
       "    }\n",
       "</style>\n",
       "<table border=\"1\" class=\"dataframe\">\n",
       "  <thead>\n",
       "    <tr style=\"text-align: right;\">\n",
       "      <th></th>\n",
       "      <th>location</th>\n",
       "      <th>total_sqft</th>\n",
       "      <th>bath</th>\n",
       "      <th>price</th>\n",
       "      <th>BHK</th>\n",
       "      <th>1st Block Jayanagar</th>\n",
       "      <th>1st Phase JP Nagar</th>\n",
       "      <th>2nd Phase Judicial Layout</th>\n",
       "      <th>2nd Stage Nagarbhavi</th>\n",
       "      <th>5th Block Hbr Layout</th>\n",
       "      <th>...</th>\n",
       "      <th>Vijayanagar</th>\n",
       "      <th>Vishveshwarya Layout</th>\n",
       "      <th>Vishwapriya Layout</th>\n",
       "      <th>Vittasandra</th>\n",
       "      <th>Whitefield</th>\n",
       "      <th>Yelachenahalli</th>\n",
       "      <th>Yelahanka</th>\n",
       "      <th>Yelahanka New Town</th>\n",
       "      <th>Yelenahalli</th>\n",
       "      <th>Yeshwanthpur</th>\n",
       "    </tr>\n",
       "  </thead>\n",
       "  <tbody>\n",
       "    <tr>\n",
       "      <th>0</th>\n",
       "      <td>1st Block Jayanagar</td>\n",
       "      <td>2850.0</td>\n",
       "      <td>4.0</td>\n",
       "      <td>428.0</td>\n",
       "      <td>4</td>\n",
       "      <td>1</td>\n",
       "      <td>0</td>\n",
       "      <td>0</td>\n",
       "      <td>0</td>\n",
       "      <td>0</td>\n",
       "      <td>...</td>\n",
       "      <td>0</td>\n",
       "      <td>0</td>\n",
       "      <td>0</td>\n",
       "      <td>0</td>\n",
       "      <td>0</td>\n",
       "      <td>0</td>\n",
       "      <td>0</td>\n",
       "      <td>0</td>\n",
       "      <td>0</td>\n",
       "      <td>0</td>\n",
       "    </tr>\n",
       "    <tr>\n",
       "      <th>1</th>\n",
       "      <td>1st Block Jayanagar</td>\n",
       "      <td>1630.0</td>\n",
       "      <td>3.0</td>\n",
       "      <td>194.0</td>\n",
       "      <td>3</td>\n",
       "      <td>1</td>\n",
       "      <td>0</td>\n",
       "      <td>0</td>\n",
       "      <td>0</td>\n",
       "      <td>0</td>\n",
       "      <td>...</td>\n",
       "      <td>0</td>\n",
       "      <td>0</td>\n",
       "      <td>0</td>\n",
       "      <td>0</td>\n",
       "      <td>0</td>\n",
       "      <td>0</td>\n",
       "      <td>0</td>\n",
       "      <td>0</td>\n",
       "      <td>0</td>\n",
       "      <td>0</td>\n",
       "    </tr>\n",
       "    <tr>\n",
       "      <th>2</th>\n",
       "      <td>1st Block Jayanagar</td>\n",
       "      <td>1875.0</td>\n",
       "      <td>2.0</td>\n",
       "      <td>235.0</td>\n",
       "      <td>3</td>\n",
       "      <td>1</td>\n",
       "      <td>0</td>\n",
       "      <td>0</td>\n",
       "      <td>0</td>\n",
       "      <td>0</td>\n",
       "      <td>...</td>\n",
       "      <td>0</td>\n",
       "      <td>0</td>\n",
       "      <td>0</td>\n",
       "      <td>0</td>\n",
       "      <td>0</td>\n",
       "      <td>0</td>\n",
       "      <td>0</td>\n",
       "      <td>0</td>\n",
       "      <td>0</td>\n",
       "      <td>0</td>\n",
       "    </tr>\n",
       "    <tr>\n",
       "      <th>3</th>\n",
       "      <td>1st Block Jayanagar</td>\n",
       "      <td>1200.0</td>\n",
       "      <td>2.0</td>\n",
       "      <td>130.0</td>\n",
       "      <td>3</td>\n",
       "      <td>1</td>\n",
       "      <td>0</td>\n",
       "      <td>0</td>\n",
       "      <td>0</td>\n",
       "      <td>0</td>\n",
       "      <td>...</td>\n",
       "      <td>0</td>\n",
       "      <td>0</td>\n",
       "      <td>0</td>\n",
       "      <td>0</td>\n",
       "      <td>0</td>\n",
       "      <td>0</td>\n",
       "      <td>0</td>\n",
       "      <td>0</td>\n",
       "      <td>0</td>\n",
       "      <td>0</td>\n",
       "    </tr>\n",
       "    <tr>\n",
       "      <th>4</th>\n",
       "      <td>1st Block Jayanagar</td>\n",
       "      <td>1235.0</td>\n",
       "      <td>2.0</td>\n",
       "      <td>148.0</td>\n",
       "      <td>2</td>\n",
       "      <td>1</td>\n",
       "      <td>0</td>\n",
       "      <td>0</td>\n",
       "      <td>0</td>\n",
       "      <td>0</td>\n",
       "      <td>...</td>\n",
       "      <td>0</td>\n",
       "      <td>0</td>\n",
       "      <td>0</td>\n",
       "      <td>0</td>\n",
       "      <td>0</td>\n",
       "      <td>0</td>\n",
       "      <td>0</td>\n",
       "      <td>0</td>\n",
       "      <td>0</td>\n",
       "      <td>0</td>\n",
       "    </tr>\n",
       "  </tbody>\n",
       "</table>\n",
       "<p>5 rows × 246 columns</p>\n",
       "</div>"
      ],
      "text/plain": [
       "              location  total_sqft  bath  price  BHK  1st Block Jayanagar  \\\n",
       "0  1st Block Jayanagar      2850.0   4.0  428.0    4                    1   \n",
       "1  1st Block Jayanagar      1630.0   3.0  194.0    3                    1   \n",
       "2  1st Block Jayanagar      1875.0   2.0  235.0    3                    1   \n",
       "3  1st Block Jayanagar      1200.0   2.0  130.0    3                    1   \n",
       "4  1st Block Jayanagar      1235.0   2.0  148.0    2                    1   \n",
       "\n",
       "   1st Phase JP Nagar  2nd Phase Judicial Layout  2nd Stage Nagarbhavi  \\\n",
       "0                   0                          0                     0   \n",
       "1                   0                          0                     0   \n",
       "2                   0                          0                     0   \n",
       "3                   0                          0                     0   \n",
       "4                   0                          0                     0   \n",
       "\n",
       "   5th Block Hbr Layout  ...  Vijayanagar  Vishveshwarya Layout  \\\n",
       "0                     0  ...            0                     0   \n",
       "1                     0  ...            0                     0   \n",
       "2                     0  ...            0                     0   \n",
       "3                     0  ...            0                     0   \n",
       "4                     0  ...            0                     0   \n",
       "\n",
       "   Vishwapriya Layout  Vittasandra  Whitefield  Yelachenahalli  Yelahanka  \\\n",
       "0                   0            0           0               0          0   \n",
       "1                   0            0           0               0          0   \n",
       "2                   0            0           0               0          0   \n",
       "3                   0            0           0               0          0   \n",
       "4                   0            0           0               0          0   \n",
       "\n",
       "   Yelahanka New Town  Yelenahalli  Yeshwanthpur  \n",
       "0                   0            0             0  \n",
       "1                   0            0             0  \n",
       "2                   0            0             0  \n",
       "3                   0            0             0  \n",
       "4                   0            0             0  \n",
       "\n",
       "[5 rows x 246 columns]"
      ]
     },
     "execution_count": 136,
     "metadata": {},
     "output_type": "execute_result"
    }
   ],
   "source": [
    "df11 = pd.concat([df10,dummies.drop('other',axis='columns')],axis='columns')\n",
    "df11.head()"
   ]
  },
  {
   "cell_type": "code",
   "execution_count": 137,
   "id": "bc0bcc3d",
   "metadata": {},
   "outputs": [
    {
     "data": {
      "text/html": [
       "<div>\n",
       "<style scoped>\n",
       "    .dataframe tbody tr th:only-of-type {\n",
       "        vertical-align: middle;\n",
       "    }\n",
       "\n",
       "    .dataframe tbody tr th {\n",
       "        vertical-align: top;\n",
       "    }\n",
       "\n",
       "    .dataframe thead th {\n",
       "        text-align: right;\n",
       "    }\n",
       "</style>\n",
       "<table border=\"1\" class=\"dataframe\">\n",
       "  <thead>\n",
       "    <tr style=\"text-align: right;\">\n",
       "      <th></th>\n",
       "      <th>total_sqft</th>\n",
       "      <th>bath</th>\n",
       "      <th>price</th>\n",
       "      <th>BHK</th>\n",
       "      <th>1st Block Jayanagar</th>\n",
       "      <th>1st Phase JP Nagar</th>\n",
       "      <th>2nd Phase Judicial Layout</th>\n",
       "      <th>2nd Stage Nagarbhavi</th>\n",
       "      <th>5th Block Hbr Layout</th>\n",
       "      <th>5th Phase JP Nagar</th>\n",
       "      <th>...</th>\n",
       "      <th>Vijayanagar</th>\n",
       "      <th>Vishveshwarya Layout</th>\n",
       "      <th>Vishwapriya Layout</th>\n",
       "      <th>Vittasandra</th>\n",
       "      <th>Whitefield</th>\n",
       "      <th>Yelachenahalli</th>\n",
       "      <th>Yelahanka</th>\n",
       "      <th>Yelahanka New Town</th>\n",
       "      <th>Yelenahalli</th>\n",
       "      <th>Yeshwanthpur</th>\n",
       "    </tr>\n",
       "  </thead>\n",
       "  <tbody>\n",
       "    <tr>\n",
       "      <th>0</th>\n",
       "      <td>2850.0</td>\n",
       "      <td>4.0</td>\n",
       "      <td>428.0</td>\n",
       "      <td>4</td>\n",
       "      <td>1</td>\n",
       "      <td>0</td>\n",
       "      <td>0</td>\n",
       "      <td>0</td>\n",
       "      <td>0</td>\n",
       "      <td>0</td>\n",
       "      <td>...</td>\n",
       "      <td>0</td>\n",
       "      <td>0</td>\n",
       "      <td>0</td>\n",
       "      <td>0</td>\n",
       "      <td>0</td>\n",
       "      <td>0</td>\n",
       "      <td>0</td>\n",
       "      <td>0</td>\n",
       "      <td>0</td>\n",
       "      <td>0</td>\n",
       "    </tr>\n",
       "    <tr>\n",
       "      <th>1</th>\n",
       "      <td>1630.0</td>\n",
       "      <td>3.0</td>\n",
       "      <td>194.0</td>\n",
       "      <td>3</td>\n",
       "      <td>1</td>\n",
       "      <td>0</td>\n",
       "      <td>0</td>\n",
       "      <td>0</td>\n",
       "      <td>0</td>\n",
       "      <td>0</td>\n",
       "      <td>...</td>\n",
       "      <td>0</td>\n",
       "      <td>0</td>\n",
       "      <td>0</td>\n",
       "      <td>0</td>\n",
       "      <td>0</td>\n",
       "      <td>0</td>\n",
       "      <td>0</td>\n",
       "      <td>0</td>\n",
       "      <td>0</td>\n",
       "      <td>0</td>\n",
       "    </tr>\n",
       "  </tbody>\n",
       "</table>\n",
       "<p>2 rows × 245 columns</p>\n",
       "</div>"
      ],
      "text/plain": [
       "   total_sqft  bath  price  BHK  1st Block Jayanagar  1st Phase JP Nagar  \\\n",
       "0      2850.0   4.0  428.0    4                    1                   0   \n",
       "1      1630.0   3.0  194.0    3                    1                   0   \n",
       "\n",
       "   2nd Phase Judicial Layout  2nd Stage Nagarbhavi  5th Block Hbr Layout  \\\n",
       "0                          0                     0                     0   \n",
       "1                          0                     0                     0   \n",
       "\n",
       "   5th Phase JP Nagar  ...  Vijayanagar  Vishveshwarya Layout  \\\n",
       "0                   0  ...            0                     0   \n",
       "1                   0  ...            0                     0   \n",
       "\n",
       "   Vishwapriya Layout  Vittasandra  Whitefield  Yelachenahalli  Yelahanka  \\\n",
       "0                   0            0           0               0          0   \n",
       "1                   0            0           0               0          0   \n",
       "\n",
       "   Yelahanka New Town  Yelenahalli  Yeshwanthpur  \n",
       "0                   0            0             0  \n",
       "1                   0            0             0  \n",
       "\n",
       "[2 rows x 245 columns]"
      ]
     },
     "execution_count": 137,
     "metadata": {},
     "output_type": "execute_result"
    }
   ],
   "source": [
    "df12 = df11.drop('location',axis='columns')\n",
    "df12.head(2)"
   ]
  },
  {
   "cell_type": "markdown",
   "id": "bc15062a",
   "metadata": {},
   "source": [
    "# Build a Model Now..."
   ]
  },
  {
   "cell_type": "code",
   "execution_count": 138,
   "id": "0ca74dec",
   "metadata": {},
   "outputs": [
    {
     "data": {
      "text/plain": [
       "(7251, 245)"
      ]
     },
     "execution_count": 138,
     "metadata": {},
     "output_type": "execute_result"
    }
   ],
   "source": [
    "df12.shape"
   ]
  },
  {
   "cell_type": "code",
   "execution_count": 139,
   "id": "3a219eab",
   "metadata": {},
   "outputs": [
    {
     "data": {
      "text/html": [
       "<div>\n",
       "<style scoped>\n",
       "    .dataframe tbody tr th:only-of-type {\n",
       "        vertical-align: middle;\n",
       "    }\n",
       "\n",
       "    .dataframe tbody tr th {\n",
       "        vertical-align: top;\n",
       "    }\n",
       "\n",
       "    .dataframe thead th {\n",
       "        text-align: right;\n",
       "    }\n",
       "</style>\n",
       "<table border=\"1\" class=\"dataframe\">\n",
       "  <thead>\n",
       "    <tr style=\"text-align: right;\">\n",
       "      <th></th>\n",
       "      <th>total_sqft</th>\n",
       "      <th>bath</th>\n",
       "      <th>BHK</th>\n",
       "      <th>1st Block Jayanagar</th>\n",
       "      <th>1st Phase JP Nagar</th>\n",
       "      <th>2nd Phase Judicial Layout</th>\n",
       "      <th>2nd Stage Nagarbhavi</th>\n",
       "      <th>5th Block Hbr Layout</th>\n",
       "      <th>5th Phase JP Nagar</th>\n",
       "      <th>6th Phase JP Nagar</th>\n",
       "      <th>...</th>\n",
       "      <th>Vijayanagar</th>\n",
       "      <th>Vishveshwarya Layout</th>\n",
       "      <th>Vishwapriya Layout</th>\n",
       "      <th>Vittasandra</th>\n",
       "      <th>Whitefield</th>\n",
       "      <th>Yelachenahalli</th>\n",
       "      <th>Yelahanka</th>\n",
       "      <th>Yelahanka New Town</th>\n",
       "      <th>Yelenahalli</th>\n",
       "      <th>Yeshwanthpur</th>\n",
       "    </tr>\n",
       "  </thead>\n",
       "  <tbody>\n",
       "    <tr>\n",
       "      <th>0</th>\n",
       "      <td>2850.0</td>\n",
       "      <td>4.0</td>\n",
       "      <td>4</td>\n",
       "      <td>1</td>\n",
       "      <td>0</td>\n",
       "      <td>0</td>\n",
       "      <td>0</td>\n",
       "      <td>0</td>\n",
       "      <td>0</td>\n",
       "      <td>0</td>\n",
       "      <td>...</td>\n",
       "      <td>0</td>\n",
       "      <td>0</td>\n",
       "      <td>0</td>\n",
       "      <td>0</td>\n",
       "      <td>0</td>\n",
       "      <td>0</td>\n",
       "      <td>0</td>\n",
       "      <td>0</td>\n",
       "      <td>0</td>\n",
       "      <td>0</td>\n",
       "    </tr>\n",
       "    <tr>\n",
       "      <th>1</th>\n",
       "      <td>1630.0</td>\n",
       "      <td>3.0</td>\n",
       "      <td>3</td>\n",
       "      <td>1</td>\n",
       "      <td>0</td>\n",
       "      <td>0</td>\n",
       "      <td>0</td>\n",
       "      <td>0</td>\n",
       "      <td>0</td>\n",
       "      <td>0</td>\n",
       "      <td>...</td>\n",
       "      <td>0</td>\n",
       "      <td>0</td>\n",
       "      <td>0</td>\n",
       "      <td>0</td>\n",
       "      <td>0</td>\n",
       "      <td>0</td>\n",
       "      <td>0</td>\n",
       "      <td>0</td>\n",
       "      <td>0</td>\n",
       "      <td>0</td>\n",
       "    </tr>\n",
       "    <tr>\n",
       "      <th>2</th>\n",
       "      <td>1875.0</td>\n",
       "      <td>2.0</td>\n",
       "      <td>3</td>\n",
       "      <td>1</td>\n",
       "      <td>0</td>\n",
       "      <td>0</td>\n",
       "      <td>0</td>\n",
       "      <td>0</td>\n",
       "      <td>0</td>\n",
       "      <td>0</td>\n",
       "      <td>...</td>\n",
       "      <td>0</td>\n",
       "      <td>0</td>\n",
       "      <td>0</td>\n",
       "      <td>0</td>\n",
       "      <td>0</td>\n",
       "      <td>0</td>\n",
       "      <td>0</td>\n",
       "      <td>0</td>\n",
       "      <td>0</td>\n",
       "      <td>0</td>\n",
       "    </tr>\n",
       "  </tbody>\n",
       "</table>\n",
       "<p>3 rows × 244 columns</p>\n",
       "</div>"
      ],
      "text/plain": [
       "   total_sqft  bath  BHK  1st Block Jayanagar  1st Phase JP Nagar  \\\n",
       "0      2850.0   4.0    4                    1                   0   \n",
       "1      1630.0   3.0    3                    1                   0   \n",
       "2      1875.0   2.0    3                    1                   0   \n",
       "\n",
       "   2nd Phase Judicial Layout  2nd Stage Nagarbhavi  5th Block Hbr Layout  \\\n",
       "0                          0                     0                     0   \n",
       "1                          0                     0                     0   \n",
       "2                          0                     0                     0   \n",
       "\n",
       "   5th Phase JP Nagar  6th Phase JP Nagar  ...  Vijayanagar  \\\n",
       "0                   0                   0  ...            0   \n",
       "1                   0                   0  ...            0   \n",
       "2                   0                   0  ...            0   \n",
       "\n",
       "   Vishveshwarya Layout  Vishwapriya Layout  Vittasandra  Whitefield  \\\n",
       "0                     0                   0            0           0   \n",
       "1                     0                   0            0           0   \n",
       "2                     0                   0            0           0   \n",
       "\n",
       "   Yelachenahalli  Yelahanka  Yelahanka New Town  Yelenahalli  Yeshwanthpur  \n",
       "0               0          0                   0            0             0  \n",
       "1               0          0                   0            0             0  \n",
       "2               0          0                   0            0             0  \n",
       "\n",
       "[3 rows x 244 columns]"
      ]
     },
     "execution_count": 139,
     "metadata": {},
     "output_type": "execute_result"
    }
   ],
   "source": [
    "X = df12.drop(['price'],axis='columns')\n",
    "X.head(3)\n"
   ]
  },
  {
   "cell_type": "code",
   "execution_count": 140,
   "id": "401764d6",
   "metadata": {},
   "outputs": [
    {
     "data": {
      "text/plain": [
       "0    428.0\n",
       "1    194.0\n",
       "2    235.0\n",
       "Name: price, dtype: float64"
      ]
     },
     "execution_count": 140,
     "metadata": {},
     "output_type": "execute_result"
    }
   ],
   "source": [
    "y = df12.price\n",
    "y.head(3)"
   ]
  },
  {
   "cell_type": "code",
   "execution_count": 141,
   "id": "5e96231f",
   "metadata": {},
   "outputs": [],
   "source": [
    "from sklearn.model_selection import train_test_split\n",
    "X_train, X_test, y_train, y_test = train_test_split(X,y,test_size=0.2,random_state=10)"
   ]
  },
  {
   "cell_type": "code",
   "execution_count": 142,
   "id": "83649fef",
   "metadata": {},
   "outputs": [
    {
     "data": {
      "text/plain": [
       "0.8452277697874324"
      ]
     },
     "execution_count": 142,
     "metadata": {},
     "output_type": "execute_result"
    }
   ],
   "source": [
    "from sklearn.linear_model import LinearRegression\n",
    "lr_clf = LinearRegression()\n",
    "lr_clf.fit(X_train,y_train)\n",
    "lr_clf.score(X_test,y_test)"
   ]
  },
  {
   "cell_type": "markdown",
   "id": "fcbae4ee",
   "metadata": {},
   "source": [
    "# Use K Fold cross validation to measure accuracy of our LinearRegression model"
   ]
  },
  {
   "cell_type": "code",
   "execution_count": 143,
   "id": "faaa35d2",
   "metadata": {},
   "outputs": [
    {
     "data": {
      "text/plain": [
       "array([0.82430186, 0.77166234, 0.85089567, 0.80837764, 0.83653286])"
      ]
     },
     "execution_count": 143,
     "metadata": {},
     "output_type": "execute_result"
    }
   ],
   "source": [
    "from sklearn.model_selection import ShuffleSplit\n",
    "from sklearn.model_selection import cross_val_score\n",
    "\n",
    "cv = ShuffleSplit(n_splits=5, test_size=0.2, random_state=0)\n",
    "\n",
    "cross_val_score(LinearRegression(), X, y, cv=cv)"
   ]
  },
  {
   "cell_type": "markdown",
   "id": "cee644ab",
   "metadata": {},
   "source": [
    "### We can see that in 5 iterations we get a score above 80% all the time. This is pretty good but we want to test few other algorithms for regression to see if we can get even better score. We will use GridSearchCV for this purpose\n",
    "\n",
    "\n",
    "# Find best model using GridSearchCV"
   ]
  },
  {
   "cell_type": "code",
   "execution_count": 144,
   "id": "b3aedeb5",
   "metadata": {
    "scrolled": true
   },
   "outputs": [
    {
     "data": {
      "text/html": [
       "<div>\n",
       "<style scoped>\n",
       "    .dataframe tbody tr th:only-of-type {\n",
       "        vertical-align: middle;\n",
       "    }\n",
       "\n",
       "    .dataframe tbody tr th {\n",
       "        vertical-align: top;\n",
       "    }\n",
       "\n",
       "    .dataframe thead th {\n",
       "        text-align: right;\n",
       "    }\n",
       "</style>\n",
       "<table border=\"1\" class=\"dataframe\">\n",
       "  <thead>\n",
       "    <tr style=\"text-align: right;\">\n",
       "      <th></th>\n",
       "      <th>model</th>\n",
       "      <th>best_score</th>\n",
       "      <th>best_params</th>\n",
       "    </tr>\n",
       "  </thead>\n",
       "  <tbody>\n",
       "    <tr>\n",
       "      <th>0</th>\n",
       "      <td>linear_regression</td>\n",
       "      <td>0.818354</td>\n",
       "      <td>{'normalize': False}</td>\n",
       "    </tr>\n",
       "    <tr>\n",
       "      <th>1</th>\n",
       "      <td>lasso</td>\n",
       "      <td>0.687448</td>\n",
       "      <td>{'alpha': 1, 'selection': 'random'}</td>\n",
       "    </tr>\n",
       "    <tr>\n",
       "      <th>2</th>\n",
       "      <td>decision_tree</td>\n",
       "      <td>0.714823</td>\n",
       "      <td>{'criterion': 'mse', 'splitter': 'best'}</td>\n",
       "    </tr>\n",
       "  </tbody>\n",
       "</table>\n",
       "</div>"
      ],
      "text/plain": [
       "               model  best_score                               best_params\n",
       "0  linear_regression    0.818354                      {'normalize': False}\n",
       "1              lasso    0.687448       {'alpha': 1, 'selection': 'random'}\n",
       "2      decision_tree    0.714823  {'criterion': 'mse', 'splitter': 'best'}"
      ]
     },
     "execution_count": 144,
     "metadata": {},
     "output_type": "execute_result"
    }
   ],
   "source": [
    "from sklearn.model_selection import GridSearchCV\n",
    "\n",
    "from sklearn.linear_model import Lasso\n",
    "from sklearn.tree import DecisionTreeRegressor\n",
    "\n",
    "def find_best_model_using_gridsearchcv(X,y):\n",
    "    algos = {\n",
    "        'linear_regression' : {\n",
    "            'model': LinearRegression(),\n",
    "            'params': {\n",
    "                'normalize': [True, False]\n",
    "            }\n",
    "        },\n",
    "        'lasso': {\n",
    "            'model': Lasso(),\n",
    "            'params': {\n",
    "                'alpha': [1,2],\n",
    "                'selection': ['random', 'cyclic']\n",
    "            }\n",
    "        },\n",
    "        'decision_tree': {\n",
    "            'model': DecisionTreeRegressor(),\n",
    "            'params': {\n",
    "                'criterion' : ['mse','friedman_mse'],\n",
    "                'splitter': ['best','random']\n",
    "            }\n",
    "        }\n",
    "    }\n",
    "    scores = []\n",
    "    cv = ShuffleSplit(n_splits=5, test_size=0.2, random_state=0)\n",
    "    for algo_name, config in algos.items():\n",
    "        gs =  GridSearchCV(config['model'], config['params'], cv=cv, return_train_score=False)\n",
    "        gs.fit(X,y)\n",
    "        scores.append({\n",
    "            'model': algo_name,\n",
    "            'best_score': gs.best_score_,\n",
    "            'best_params': gs.best_params_\n",
    "        })\n",
    "\n",
    "    return pd.DataFrame(scores,columns=['model','best_score','best_params'])\n",
    "\n",
    "find_best_model_using_gridsearchcv(X,y)"
   ]
  },
  {
   "cell_type": "markdown",
   "id": "2abe52d2",
   "metadata": {},
   "source": [
    "#### Based on above results we can say that LinearRegression gives the best score. Hence we will use that.\n",
    "\n",
    "\n",
    "# Test the model for few properties"
   ]
  },
  {
   "cell_type": "code",
   "execution_count": 145,
   "id": "0be80b07",
   "metadata": {},
   "outputs": [],
   "source": [
    "def predict_price(location,sqft,bath,bhk):    \n",
    "    loc_index = np.where(X.columns==location)[0][0]\n",
    "\n",
    "    x = np.zeros(len(X.columns))\n",
    "    x[0] = sqft\n",
    "    x[1] = bath\n",
    "    x[2] = bhk\n",
    "    if loc_index >= 0:\n",
    "        x[loc_index] = 1\n",
    "\n",
    "    return lr_clf.predict([x])[0]"
   ]
  },
  {
   "cell_type": "code",
   "execution_count": 154,
   "id": "61e0edee",
   "metadata": {},
   "outputs": [
    {
     "data": {
      "text/plain": [
       "83.49904677185246"
      ]
     },
     "execution_count": 154,
     "metadata": {},
     "output_type": "execute_result"
    }
   ],
   "source": [
    "predict_price('1st Phase JP Nagar',1000, 2, 2)"
   ]
  },
  {
   "cell_type": "code",
   "execution_count": 153,
   "id": "1d8f9aef",
   "metadata": {},
   "outputs": [
    {
     "data": {
      "text/plain": [
       "184.58430202033406"
      ]
     },
     "execution_count": 153,
     "metadata": {},
     "output_type": "execute_result"
    }
   ],
   "source": [
    "predict_price('Indira Nagar',1000, 3, 3)"
   ]
  },
  {
   "cell_type": "code",
   "execution_count": 156,
   "id": "6f6e8481",
   "metadata": {},
   "outputs": [
    {
     "data": {
      "text/plain": [
       "86.80519395211893"
      ]
     },
     "execution_count": 156,
     "metadata": {},
     "output_type": "execute_result"
    }
   ],
   "source": [
    "predict_price('1st Phase JP Nagar',1000, 3, 3)"
   ]
  },
  {
   "cell_type": "code",
   "execution_count": 155,
   "id": "eee755c4",
   "metadata": {},
   "outputs": [
    {
     "data": {
      "text/plain": [
       "181.2781548400676"
      ]
     },
     "execution_count": 155,
     "metadata": {},
     "output_type": "execute_result"
    }
   ],
   "source": [
    "predict_price('Indira Nagar',1000, 2, 2)"
   ]
  },
  {
   "cell_type": "markdown",
   "id": "bc18c7f6",
   "metadata": {},
   "source": [
    "# Export the tested model to a pickle file"
   ]
  },
  {
   "cell_type": "code",
   "execution_count": 148,
   "id": "0c795e7f",
   "metadata": {},
   "outputs": [],
   "source": [
    "import pickle\n",
    "with open('banglore_home_prices_model.pickle','wb') as f:\n",
    "    pickle.dump(lr_clf,f)"
   ]
  },
  {
   "cell_type": "markdown",
   "id": "89840b5b",
   "metadata": {},
   "source": [
    "\n",
    "\n",
    "# Export location and column information to a file that will be useful later on in our prediction application"
   ]
  },
  {
   "cell_type": "code",
   "execution_count": 149,
   "id": "928ae2f5",
   "metadata": {},
   "outputs": [],
   "source": [
    "import json\n",
    "columns = {\n",
    "    'data_columns' : [col.lower() for col in X.columns]\n",
    "}\n",
    "with open(\"columns.json\",\"w\") as f:\n",
    "    f.write(json.dumps(columns))"
   ]
  },
  {
   "cell_type": "code",
   "execution_count": null,
   "id": "c2fe6d93",
   "metadata": {},
   "outputs": [],
   "source": []
  }
 ],
 "metadata": {
  "kernelspec": {
   "display_name": "Python 3 (ipykernel)",
   "language": "python",
   "name": "python3"
  },
  "language_info": {
   "codemirror_mode": {
    "name": "ipython",
    "version": 3
   },
   "file_extension": ".py",
   "mimetype": "text/x-python",
   "name": "python",
   "nbconvert_exporter": "python",
   "pygments_lexer": "ipython3",
   "version": "3.9.13"
  }
 },
 "nbformat": 4,
 "nbformat_minor": 5
}
